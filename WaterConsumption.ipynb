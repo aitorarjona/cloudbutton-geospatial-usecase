{
 "cells": [
  {
   "cell_type": "markdown",
   "metadata": {},
   "source": [
    "# Water consumption"
   ]
  },
  {
   "cell_type": "markdown",
   "metadata": {},
   "source": [
    "The current notebook computes an interpolation of temperatures in each pixel based on SIAM extracted data."
   ]
  },
  {
   "source": [
    "A .bluemix/cos_credentials.json file correctly configured located at home directory is needed in order to connect with IBM Cloud. More information at https://cloud.ibm.com/docs/services/cloud-object-storage/iam?topic=cloud-object-storage-service-credentials."
   ],
   "cell_type": "markdown",
   "metadata": {}
  },
  {
   "cell_type": "code",
   "execution_count": 2,
   "metadata": {},
   "outputs": [],
   "source": [
    "from collections import defaultdict\n",
    "from ibm_botocore.client import Config, ClientError\n",
    "from io_utils.cos import COS\n",
    "from io_utils.plot import plot_random_blocks, plot_results\n",
    "from rasterio.windows import Window\n",
    "from scipy.spatial import distance_matrix\n",
    "from shapely.geometry import Point, MultiPoint, box\n",
    "\n",
    "import os\n",
    "import ibm_boto3\n",
    "import math\n",
    "import numpy as np\n",
    "import pandas as pd\n",
    "import lithops\n",
    "import requests\n",
    "import rasterio\n",
    "import json"
   ]
  },
  {
   "cell_type": "markdown",
   "metadata": {},
   "source": [
    "## Global parameters"
   ]
  },
  {
   "cell_type": "markdown",
   "metadata": {},
   "source": [
    "Area outside the processed tile that we want to consider for taking SIAM stations into account:"
   ]
  },
  {
   "cell_type": "code",
   "execution_count": 3,
   "metadata": {},
   "outputs": [],
   "source": [
    "AREA_OF_INFLUENCE = 4000"
   ]
  },
  {
   "cell_type": "markdown",
   "metadata": {},
   "source": [
    "IBM Cos bucket to upload files:"
   ]
  },
  {
   "cell_type": "code",
   "execution_count": 4,
   "metadata": {},
   "outputs": [],
   "source": [
    "BUCKET = 'aitor-us-south'"
   ]
  },
  {
   "cell_type": "markdown",
   "metadata": {},
   "source": [
    "Split tile into SPLITS$^2$ chunks:"
   ]
  },
  {
   "cell_type": "code",
   "execution_count": 5,
   "metadata": {},
   "outputs": [],
   "source": [
    "SPLITS = 3"
   ]
  },
  {
   "cell_type": "markdown",
   "metadata": {},
   "source": [
    "Correlation coefficient between elevation and temperature:"
   ]
  },
  {
   "cell_type": "code",
   "execution_count": 6,
   "metadata": {},
   "outputs": [],
   "source": [
    "r = -0.0056"
   ]
  },
  {
   "cell_type": "markdown",
   "metadata": {},
   "source": [
    "Elevation to interpolate temperature:"
   ]
  },
  {
   "cell_type": "code",
   "execution_count": 7,
   "metadata": {},
   "outputs": [],
   "source": [
    "zdet = 2000"
   ]
  },
  {
   "cell_type": "markdown",
   "metadata": {},
   "source": [
    "Day of year to calculate solar irradiation:"
   ]
  },
  {
   "cell_type": "code",
   "execution_count": 8,
   "metadata": {},
   "outputs": [],
   "source": [
    "DAY_OF_YEAR = 50"
   ]
  },
  {
   "cell_type": "markdown",
   "metadata": {},
   "source": [
    "## Data preparation"
   ]
  },
  {
   "cell_type": "markdown",
   "metadata": {},
   "source": [
    "Download SIAM data:"
   ]
  },
  {
   "cell_type": "code",
   "execution_count": 9,
   "metadata": {},
   "outputs": [
    {
     "output_type": "execute_result",
     "data": {
      "text/plain": [
       "9165"
      ]
     },
     "metadata": {},
     "execution_count": 9
    }
   ],
   "source": [
    "url = 'http://siam.imida.es/apex/f?p=101:47:493289053024037:CSV::::'\n",
    "# url = 'http://siam.imida.es/apex/f?p=101:48:2555846978143339:CSV::::'\n",
    "siam_data = requests.get(url)\n",
    "with open('water/siam_data.csv', 'wb') as siam_data_file:\n",
    "    siam_data_file.write(siam_data.content)"
   ]
  },
  {
   "cell_type": "code",
   "execution_count": 10,
   "metadata": {},
   "outputs": [],
   "source": [
    "def guess_nearest(x, y, field, stations):\n",
    "    '''\n",
    "    Compute field value at a given x,y point by getting the value of the closest station \n",
    "    '''\n",
    "    from shapely.ops import nearest_points\n",
    "    stations_of_interest = stations[(stations[field] != '-') & ((stations['X'] != x) | (stations['Y'] != y))]\n",
    "    points = MultiPoint(stations_of_interest.apply(lambda row: Point(row['X'], row['Y']), axis=1 ).array)\n",
    "    nearest = nearest_points(Point(x,y), points)[1]\n",
    "    val = stations_of_interest[(stations_of_interest['X'] == nearest.x) &\n",
    "                                (stations_of_interest['Y'] == nearest.y)]\n",
    "\n",
    "    return stations_of_interest[(stations_of_interest['X'] == nearest.x) &\n",
    "                                (stations_of_interest['Y'] == nearest.y)][field].iloc[0] "
   ]
  },
  {
   "cell_type": "markdown",
   "metadata": {},
   "source": [
    "Append locations of SIAM stations to previously downloaded data and write results to a CSV:"
   ]
  },
  {
   "cell_type": "code",
   "execution_count": 11,
   "metadata": {},
   "outputs": [],
   "source": [
    "columns = {\n",
    "    'Estación': 'COD',\n",
    "    'Tmed <br> (ºC)': 'temp',\n",
    "    'Hrmed <br> (%)': 'hr',\n",
    "    'Vvmed <br> (m/seg)': 'v',\n",
    "    'Eti.': 'dir',\n",
    "    'Radmed <br> (w/m2)': 'rad',\n",
    "    'Dvmed <br>  (º)': 'dir_deg'\n",
    "}\n",
    "\n",
    "siam_data = pd.read_csv('water/siam_data.csv', encoding='iso-8859-1', sep=';', decimal=',', thousands='.', na_values = '-')\n",
    "siam_data = siam_data[columns.keys()].rename(columns=columns)\n",
    "siam_locations = pd.read_csv('water/siam_locations.csv', encoding='iso-8859-1', sep=';', decimal = ',', thousands='.')\n",
    "siam = pd.merge(siam_locations, siam_data, on='COD')\n",
    "siam['tdet'] = siam['temp'] + r * (zdet - siam['Cota'].to_numpy())\n",
    "siam = siam[['X', 'Y', 'Cota', 'temp', 'hr', 'tdet', 'v'] + list(columns.values())]\n",
    "# Guess wind direction of undefined values\n",
    "siam['dir_deg'] = siam.apply(lambda row: row['dir_deg'] \n",
    "                                     if not math.isnan(row['dir_deg'])\n",
    "                                     else guess_nearest(row['X'], row['Y'], 'dir_deg', siam), axis=1)\n",
    "# Guess radiation of undefined values\n",
    "siam['rad'] = siam.apply(lambda row: row['rad'] \n",
    "                                     if not math.isnan(row['rad'])\n",
    "                                     else guess_nearest(row['X'], row['Y'], 'rad', siam), axis=1)\n",
    "siam.to_csv('water/siam_out.csv', index=False)"
   ]
  },
  {
   "cell_type": "markdown",
   "metadata": {},
   "source": [
    "Upload the CSV written to IBM Cloud Object Storage:"
   ]
  },
  {
   "cell_type": "code",
   "execution_count": 12,
   "metadata": {},
   "outputs": [],
   "source": [
    "with open(os.path.expanduser('~/.bluemix/cos_credentials.json')) as credentials_file:\n",
    "    cos_credentials = json.loads(credentials_file.read())\n",
    "\n",
    "cos = COS(ibm_api_key_id=cos_credentials['apikey'],\n",
    "          ibm_service_instance_id=cos_credentials['resource_instance_id'],\n",
    "          endpoint_url='https://s3.us-south.cloud-object-storage.appdomain.cloud',\n",
    "          bucket=BUCKET)"
   ]
  },
  {
   "cell_type": "code",
   "execution_count": 13,
   "metadata": {},
   "outputs": [],
   "source": [
    "cos.multi_part_upload('siam_out.csv', 'water/siam_out.csv')\n",
    "\n",
    "cos.multi_part_upload('shapefile.zip', 'shapefiles/shapefile.zip')"
   ]
  },
  {
   "cell_type": "markdown",
   "metadata": {},
   "source": [
    "Download MDT files for free from http://centrodedescargas.cnig.es/CentroDescargas/buscadorCatalogo.do?codFamilia=MDT05# and put them in `water/MDT` folder."
   ]
  },
  {
   "cell_type": "markdown",
   "metadata": {},
   "source": [
    "Find downloaded MDTs:"
   ]
  },
  {
   "cell_type": "code",
   "execution_count": 14,
   "metadata": {},
   "outputs": [],
   "source": [
    "mdts = []\n",
    "for root, dirs, files in os.walk(\"water/MDT\"):\n",
    "    for file in files:\n",
    "        if file.endswith(\".asc\"):\n",
    "             mdts.append(os.path.join(root, file))"
   ]
  },
  {
   "cell_type": "markdown",
   "metadata": {},
   "source": [
    "Convert digital elevation map into a Cloud Optimized Geotiff. Upload then to IBM COS:"
   ]
  },
  {
   "cell_type": "code",
   "execution_count": 24,
   "metadata": {},
   "outputs": [],
   "source": [
    "cos_mdts = []\n",
    "cos_files = cos.get_cos_files()\n",
    "\n",
    "for mdt in mdts:\n",
    "    tiff_file = os.path.splitext(mdt)[0] + '.tif'\n",
    "    file_name = tiff_file[tiff_file.rfind('/')+1:]\n",
    "    if file_name not in cos_files:\n",
    "        with rasterio.open(mdt) as src:\n",
    "            profile = src.profile\n",
    "            # Cloud optimized GeoTiff parameters (No hace falta rio_cogeo)\n",
    "            profile.update(driver='GTiff')\n",
    "            profile.update(blockxsize=256)\n",
    "            profile.update(blockysize=256)\n",
    "            profile.update(tiled=True)\n",
    "            profile.update(compress='deflate')\n",
    "            profile.update(interleave='band')\n",
    "            with rasterio.open(tiff_file, \"w\", **profile) as dest:\n",
    "                dest.write(src.read())\n",
    "                \n",
    "        cos.multi_part_upload(file_name, tiff_file)\n",
    "    cos_mdts.append(file_name)"
   ]
  },
  {
   "cell_type": "markdown",
   "metadata": {},
   "source": [
    "## Serverless computation"
   ]
  },
  {
   "cell_type": "markdown",
   "metadata": {},
   "source": [
    "Compute solar irradiation given a day of year using GRASS libraries:"
   ]
  },
  {
   "cell_type": "code",
   "execution_count": 25,
   "metadata": {},
   "outputs": [],
   "source": [
    "def compute_solar_irradiation(inputFile, outputFile, crs='32630'):\n",
    "\n",
    "    # Define grass working set\n",
    "    GRASS_GISDB = 'grassdata'\n",
    "    GRASS_LOCATION = 'GEOPROCESSING'\n",
    "    GRASS_MAPSET = 'PERMANENT'\n",
    "    GRASS_ELEVATIONS_FILENAME = 'ELEVATIONS'\n",
    "    \n",
    "    import os\n",
    "    import shutil\n",
    "    os.environ['GRASSBIN'] = 'grass76'\n",
    "    from grass_session import Session\n",
    "    import grass.script as gscript\n",
    "    from grass.pygrass.modules.shortcuts import general as g\n",
    "    from grass.pygrass.modules.shortcuts import raster as r\n",
    "    import re\n",
    "    os.environ.update(dict(GRASS_COMPRESS_NULLS='1'))\n",
    "    \n",
    "    # Clean previously processed data\n",
    "    if os.path.isdir(GRASS_GISDB):\n",
    "        shutil.rmtree(GRASS_GISDB)\n",
    "    with Session(gisdb=GRASS_GISDB, location=GRASS_LOCATION, mapset=GRASS_MAPSET, create_opts='EPSG:32630') as ses:\n",
    "    \n",
    "        # Set project projection to match elevation raster projection\n",
    "        g.proj(epsg=crs, flags='c') \n",
    "    \n",
    "        # Load raster file into working directory\n",
    "        r.import_(input=inputFile, \n",
    "                  output=GRASS_ELEVATIONS_FILENAME, \n",
    "                  flags='o')    \n",
    "        \n",
    "        # Set project region to match raster region\n",
    "        g.region(raster=GRASS_ELEVATIONS_FILENAME, flags='s')    \n",
    "        # Calculate solar irradiation\n",
    "        gscript.run_command('r.slope.aspect', elevation=GRASS_ELEVATIONS_FILENAME, slope='slope', aspect='aspect')\n",
    "        gscript.run_command('r.sun', elevation=GRASS_ELEVATIONS_FILENAME, slope='slope', aspect='aspect', beam_rad='beam', step=1, day=DAY_OF_YEAR)\n",
    "        \n",
    "        # Get extraterrestrial irradiation from history metadata\n",
    "        regex = re.compile(r'\\d+\\.\\d+')\n",
    "        output = gscript.read_command(\"r.info\", flags=\"h\", map=[\"beam\"])\n",
    "        splits = str(output).split('\\n')\n",
    "        line = next(filter(lambda line: 'Extraterrestrial' in line, splits))\n",
    "        extraterrestrial_irradiance = float(regex.search(line)[0])\n",
    "        \n",
    "        # Export generated results into a GeoTiff file\n",
    "        if os.path.isfile(outputFile):\n",
    "            os.remove(outputFile)\n",
    "            \n",
    "        r.out_gdal(input='beam', output=outputFile)\n",
    "        return extraterrestrial_irradiance"
   ]
  },
  {
   "cell_type": "markdown",
   "metadata": {},
   "source": [
    "Get stations contained in the area of interest:"
   ]
  },
  {
   "cell_type": "code",
   "execution_count": 26,
   "metadata": {},
   "outputs": [],
   "source": [
    "def filter_stations(bounds, stations):\n",
    "    \n",
    "    total_points = MultiPoint([Point(x,y) for x, y in stations[['X', 'Y']].to_numpy()])\n",
    "    intersection = bounds.buffer(AREA_OF_INFLUENCE).intersection(total_points)\n",
    "    return stations[[ intersection.contains(point) for point in total_points]]"
   ]
  },
  {
   "cell_type": "markdown",
   "metadata": {},
   "source": [
    "Inverse Distance Weighting interpolation:"
   ]
  },
  {
   "cell_type": "code",
   "execution_count": 27,
   "metadata": {},
   "outputs": [],
   "source": [
    "def compute_basic_interpolation(shape, stations, field_value='tdet', offset = (0,0)):\n",
    "    \n",
    "    station_pixels = [[pixel[0], pixel[1]] for pixel in stations['pixel'].to_numpy()]\n",
    "    # Get an array where each position represents pixel coordinates\n",
    "    tile_pixels = np.indices(shape).transpose(1,2,0).reshape(shape[0]*shape[1], 2) + offset\n",
    "    dist = distance_matrix(station_pixels, tile_pixels)\n",
    "    weights = np.where(dist == 0, np.finfo('float32').max, 1.0 / dist )\n",
    "    weights /=  weights.sum(axis=0)\n",
    "    return np.dot(weights.T, stations[field_value].to_numpy()).reshape(shape).astype('float32')"
   ]
  },
  {
   "cell_type": "markdown",
   "metadata": {},
   "source": [
    "Compute interpolated temperature from selected stations:"
   ]
  },
  {
   "cell_type": "code",
   "execution_count": 28,
   "metadata": {},
   "outputs": [],
   "source": [
    "def compute_interpolated_temperature(elevations, stations, zdet, r, offset = (0,0)):\n",
    "    \n",
    "    return compute_basic_interpolation(elevations.shape, stations, 'tdet', offset) + \\\n",
    "           r * (elevations - zdet) "
   ]
  },
  {
   "cell_type": "markdown",
   "metadata": {},
   "source": [
    "Interpolate temperatures from a subset of the tile:"
   ]
  },
  {
   "cell_type": "code",
   "execution_count": 29,
   "metadata": {},
   "outputs": [],
   "source": [
    "def map_interpolation(obj, block_x, block_y, splits, output_type, ibm_cos):\n",
    "\n",
    "    import io\n",
    "    import math\n",
    "    import numpy as np\n",
    "    \n",
    "    item = \"tmp/\" + obj.key[:obj.key.rfind('.')] + \"_\" + str(block_x) + \"_\" + str(block_y) + \"_\" + output_type + \".tif\"\n",
    "    if output_type == 'RADIATION':\n",
    "        \n",
    "        #with rasterio.open(obj.data_stream) as src:\n",
    "        with rasterio.open(ibm_cos.get_object(Bucket=obj.bucket, Key=obj.key)['Body']) as src:\n",
    "            transform = src.transform\n",
    "            # Compute working window\n",
    "            step_w = src.width/splits\n",
    "            step_h = src.height/splits\n",
    "            offset_h = round(step_h*block_x)\n",
    "            offset_w = round(step_w*block_y)       \n",
    "            profile = src.profile\n",
    "            width = math.ceil(step_w*(block_y+1) - offset_w)\n",
    "            height = math.ceil(step_h*(block_x+1) - offset_h)\n",
    "            profile.update(width=width)\n",
    "            profile.update(height=height)\n",
    "            window = Window(offset_w,offset_h, width, height)\n",
    "            with rasterio.open('input', \"w\", **profile) as dest:\n",
    "                dest.write(src.read(window=window))\n",
    "            # Stores global irradiation at \"output\", it also returns extraterrestrial irradiation\n",
    "            extraterrestrial_irradiation = compute_solar_irradiation('input', 'output')\n",
    "            # Create and store a raster with extraterrestrial_irradiation\n",
    "            with rasterio.open('extr', \"w\", **profile) as dest:\n",
    "                data = np.full((height, width), extraterrestrial_irradiation, dtype='float32')\n",
    "                dest.write(data, 1)\n",
    "            extr = \"tmp/\" + obj.key[:obj.key.rfind('.')] + \"_\" + str(block_x) + \"_\" + str(block_y) + \"_EXTRAD.tif\"\n",
    "            ibm_cos.put_object(Bucket = obj.bucket, Key = extr, Body = open('extr', 'rb'))\n",
    "    else:\n",
    "        \n",
    "        siam_stream = ibm_cos.get_object(Bucket=BUCKET, Key='siam_out.csv')['Body']\n",
    "        siam = pd.read_csv(io.BytesIO(siam_stream.read()))\n",
    "        with rasterio.open(ibm_cos.get_object(Bucket=obj.bucket, Key=obj.key)['Body']) as src:\n",
    "            transform = src.transform\n",
    "            # Compute working window\n",
    "            step_w = src.width/splits\n",
    "            step_h = src.height/splits\n",
    "            offset_h = round(step_h*block_x)\n",
    "            offset_w = round(step_w*block_y)       \n",
    "            profile = src.profile\n",
    "            width = math.ceil(step_w*(block_y+1) - offset_w)\n",
    "            height = math.ceil(step_h*(block_x+1) - offset_h)\n",
    "            profile.update(width=width)\n",
    "            profile.update(height=height)\n",
    "            window = Window(offset_w,offset_h, width, height)\n",
    "            # Filter desired stations\n",
    "            bounding_rect = box(src.bounds.left, src.bounds.top, src.bounds.right, src.bounds.bottom)\n",
    "            filtered = pd.DataFrame(filter_stations(bounding_rect, siam))\n",
    "            filtered['pixel'] = filtered.apply(lambda station: rasterio.transform.rowcol(transform, station['X'], station['Y']), axis=1)\n",
    "            # Interpolate and write results \n",
    "            with rasterio.open('output', \"w\", **profile) as dest:\n",
    "\n",
    "                if output_type == 'TEMPERATURE':\n",
    "                    elevations = src.read(1, window=window) # Get elevations content\n",
    "                    interpolation = compute_interpolated_temperature(elevations, filtered, zdet, r, (offset_h, offset_w))\n",
    "                    dest.write(np.where(elevations == src.nodata, np.nan, interpolation), 1)\n",
    "                else:\n",
    "                    interpolation = compute_basic_interpolation((height, width), \n",
    "                                                                filtered, \n",
    "                                                                'hr' if output_type == 'HUMIDITY' else 'v', \n",
    "                                                                (offset_h, offset_w))\n",
    "                    dest.write(interpolation, 1)\n",
    "\n",
    "    # Export results to IBM_COS \n",
    "    ibm_cos.put_object(Bucket = obj.bucket, Key = item, Body = open('output', 'rb'))\n",
    "    return (obj.key, width, height, output_type, block_x, block_y, item)"
   ]
  },
  {
   "cell_type": "markdown",
   "metadata": {},
   "source": [
    "Lithops serverless computation:"
   ]
  },
  {
   "cell_type": "code",
   "execution_count": 30,
   "metadata": {},
   "outputs": [
    {
     "output_type": "stream",
     "name": "stdout",
     "text": [
      "Lithops v2.2.3-SNAPSHOT init for IBM Cloud Functions - Namespace: cloudlab_urv_us_south - Region: us_south\n",
      "ExecutorID 946f05/1 | JobID M000 - Selected Runtime: cloudbuttonans/geospatial-runtime:3.7-v6 - 2048MB \n",
      "ExecutorID 946f05/1 | JobID M000 - Uploading function and data - Total: 33.8KiB\n",
      "0/|/ 0/108ExecutorID 946f05/1 | JobID M000 - Starting function invocation: map_interpolation() - Total: 108 activations\n",
      "ExecutorID 946f05/1 - Getting results...\n",
      "108/|/ 108/108ExecutorID 946f05/1 - Cleaning temporary data\n",
      "\n"
     ]
    }
   ],
   "source": [
    "iterdata = []\n",
    "for cos_mdt in cos_mdts:\n",
    "    for output_type in ['TEMPERATURE', 'HUMIDITY', 'WIND', 'RADIATION']:\n",
    "        for i in range(0,SPLITS):\n",
    "            for j in range(0,SPLITS):\n",
    "                iterdata.append({\n",
    "                    'obj': f'cos://{BUCKET}/{cos_mdt}', \n",
    "                    'block_x': j, \n",
    "                    'block_y': i, \n",
    "                    'splits': SPLITS, \n",
    "                    'output_type': output_type\n",
    "                })\n",
    "                \n",
    "lith = lithops.FunctionExecutor(runtime='cloudbuttonans/geospatial-runtime:3.7-v6')\n",
    "lith.map(map_interpolation, iterdata, timeout=600, runtime_memory=2048)\n",
    "map_result = lith.get_result()"
   ]
  },
  {
   "cell_type": "markdown",
   "metadata": {},
   "source": [
    "Join split subsets into a tile:"
   ]
  },
  {
   "cell_type": "code",
   "execution_count": 31,
   "metadata": {},
   "outputs": [],
   "source": [
    "def gather_blocks(tile, splits, width, height, output_type, objs, ibm_cos):\n",
    "\n",
    "    from rasterio.windows import Window\n",
    "    \n",
    "    size = len(objs)\n",
    "    item = tile[:tile.rfind('.')] + \"_\" + output_type + \".tif\"\n",
    "    \n",
    "    if size > 0:\n",
    "        \n",
    "        # Open first object to obtain profile metadata\n",
    "        obj = objs[0]['obj']\n",
    "        with rasterio.open(ibm_cos.get_object(Bucket=obj[0], Key=obj[1])['Body']) as src:\n",
    "            profile = src.profile\n",
    "            profile.update(width=width)\n",
    "            profile.update(height=height)\n",
    "            name = obj[1]\n",
    "            bucket = obj[0]\n",
    "\n",
    "        # Iterate each object and print its block into the destination file\n",
    "        with rasterio.open(\"output\", \"w\", **profile) as dest: \n",
    "\n",
    "            for obj_info in objs:\n",
    "                obj, j, i = obj_info.values()\n",
    "                with rasterio.open(ibm_cos.get_object(Bucket=obj[0], Key=obj[1])['Body']) as src:\n",
    "                    step_w = width/splits\n",
    "                    step_h = height/splits\n",
    "                    curr_window = Window(round(step_w*i),\n",
    "                                        round(step_h*j), \n",
    "                                        src.width,\n",
    "                                        src.height)\n",
    "                    content = src.read(1)\n",
    "                    dest.write(content, 1, window=curr_window)\n",
    "         \n",
    "        ibm_cos.put_object(Bucket = bucket, Key = item, Body = open(\"output\", 'rb'))  \n",
    "        return (tile, width, height, item)"
   ]
  },
  {
   "cell_type": "markdown",
   "metadata": {},
   "source": [
    "Combine previous split subsets:"
   ]
  },
  {
   "cell_type": "code",
   "execution_count": 32,
   "metadata": {},
   "outputs": [],
   "source": [
    "reducedata = defaultdict(list)\n",
    "total_widths = defaultdict(int)\n",
    "total_heights = defaultdict(int)\n",
    "for tile, width, height, output_type, x, y, elem in map_result:\n",
    "    reducedata[(tile, output_type)].append({'obj': (BUCKET, elem), 'x': x, 'y': y})\n",
    "    if x == 0:\n",
    "        total_widths[(tile, output_type)] += width\n",
    "    if y == 0:\n",
    "        total_heights[(tile, output_type)] += height\n",
    "    \n",
    "    if output_type == 'RADIATION':\n",
    "        # Also add generated Extraterrestrial Radiation geotiff to merging process\n",
    "        reducedata[(tile, 'EXTRAD')].append({'obj': (BUCKET, elem.replace('_RADIATION', '_EXTRAD')), 'x': x, 'y': y})\n",
    "        if x == 0:\n",
    "            total_widths[(tile, 'EXTRAD')] += width\n",
    "        if y == 0:\n",
    "            total_heights[(tile, 'EXTRAD')] += height\n",
    "            \n",
    "reducedata = list(\n",
    "    map(\n",
    "        lambda tup: {\n",
    "            'tile': tup[0][0],\n",
    "            'output_type': tup[0][1],\n",
    "            'splits': SPLITS, \n",
    "            'width': total_widths[tup[0]], \n",
    "            'height': total_heights[tup[0]], \n",
    "            'objs': tuple(tup[1])\n",
    "        },reducedata.items()))"
   ]
  },
  {
   "cell_type": "code",
   "execution_count": 33,
   "metadata": {
    "scrolled": true
   },
   "outputs": [
    {
     "output_type": "stream",
     "name": "stdout",
     "text": [
      "Lithops v2.2.3-SNAPSHOT init for IBM Cloud Functions - Namespace: cloudlab_urv_us_south - Region: us_south\n",
      "ExecutorID 946f05/2 | JobID M000 - Selected Runtime: cloudbuttonans/geospatial-runtime:3.7-v6 - 2048MB \n",
      "ExecutorID 946f05/2 | JobID M000 - Uploading function and data - Total: 13.1KiB\n",
      "0/|/ 0/15ExecutorID 946f05/2 | JobID M000 - Starting function invocation: gather_blocks() - Total: 15 activations\n",
      "ExecutorID 946f05/2 - Getting results...\n",
      "15/|/ 15/15ExecutorID 946f05/2 - Cleaning temporary data\n",
      "\n"
     ]
    }
   ],
   "source": [
    "lith = lithops.FunctionExecutor(runtime='cloudbuttonans/geospatial-runtime:3.7-v6')\n",
    "lith.map(gather_blocks, reducedata, timeout=600, runtime_memory=2048)\n",
    "gather_result = lith.get_result()\n",
    "gather_results = gather_result if isinstance(gather_result, list) else [gather_results]"
   ]
  },
  {
   "cell_type": "code",
   "execution_count": 34,
   "metadata": {},
   "outputs": [],
   "source": [
    "items = list(map(lambda result: result[3], gather_results))"
   ]
  },
  {
   "cell_type": "markdown",
   "metadata": {},
   "source": [
    "## Computation of potential evaporation"
   ]
  },
  {
   "cell_type": "code",
   "execution_count": 35,
   "metadata": {},
   "outputs": [],
   "source": [
    "gatherdata = defaultdict(dict)\n",
    "for tile, width, height, elem in gather_results:\n",
    "    if \"TEMPERATURE\" in elem:\n",
    "        gatherdata[(tile, width, height)]['temperature'] = (BUCKET, elem)\n",
    "    elif \"HUMIDITY\" in elem:\n",
    "        gatherdata[(tile, width, height)]['humidity'] = (BUCKET, elem)\n",
    "    elif \"WIND\" in elem:  \n",
    "        gatherdata[(tile, width, height)]['wind'] = (BUCKET, elem)\n",
    "    elif \"RADIATION\" in elem:\n",
    "        gatherdata[(tile, width, height)]['radiation'] = (BUCKET, elem)\n",
    "    elif \"EXTRAD\" in elem:\n",
    "        gatherdata[(tile, width, height)]['extraterrestrial'] = (BUCKET, elem)\n",
    "        \n",
    "gatherdata = list(\n",
    "    map(\n",
    "        lambda tup: {\n",
    "            'tile': tup[0][0],\n",
    "            'width': tup[0][1], \n",
    "            'height': tup[0][2], \n",
    "            'temperature': tup[1]['temperature'],\n",
    "            'humidity': tup[1]['humidity'],\n",
    "            'wind': tup[1]['wind'],\n",
    "            'radiation': tup[1]['radiation'],\n",
    "            'ext_radiation': tup[1]['extraterrestrial']\n",
    "        },gatherdata.items()))"
   ]
  },
  {
   "cell_type": "code",
   "execution_count": 36,
   "metadata": {},
   "outputs": [],
   "source": [
    "def compute_crop_evapotranspiration(temperatures, humidities, wind_speeds, external_radiations, global_radiations, KCs):\n",
    "    \n",
    "    gamma = 0.665*101.3/1000\n",
    "    eSat = 0.6108 * np.exp((17.27*temperatures)/(temperatures+237.3))\n",
    "    delta = 4098 * eSat / np.power((temperatures + 237.3),2)\n",
    "    eA = np.where(humidities < 0, 0, eSat * humidities / 100)     # Avoid sqrt of a negative number\n",
    "    T4 = 4.903 * np.power((273.3 + temperatures),4)/1000000000\n",
    "    rSrS0 = global_radiations/(external_radiations * 0.75)\n",
    "    rN = 0.8* global_radiations-T4*(0.34-0.14*np.sqrt(eA))*((1.35*rSrS0)-0.35)\n",
    "    den = delta + gamma *(1 + 0.34* wind_speeds)\n",
    "    tRad = 0.408 * delta * rN / den\n",
    "    tAdv = gamma * (900/(temperatures+273))*wind_speeds * (eSat - eA)/den\n",
    "    return ((tRad + tAdv) * 7 * KCs).astype('float32')"
   ]
  },
  {
   "cell_type": "code",
   "execution_count": 37,
   "metadata": {},
   "outputs": [],
   "source": [
    "vineyard = ['VI', 'VO', 'VF', 'FV', 'CV' ]\n",
    "olive_grove = ['OV', 'VO', 'OF', 'FL', 'OC']\n",
    "fruit = ['FY', 'VF', 'OF', 'FF', 'CF']\n",
    "nuts = ['FS', 'FV', 'FL', 'FF', 'CS' ]\n",
    "citrus = ['CI', 'CV', 'OC', 'CF', 'CS' ]\n",
    "\n",
    "def get_kc(feature):\n",
    "    \n",
    "    # TODO: Get more precise values of Kc\n",
    "    sigpac_use = feature['properties'].get('uso_sigpac', {})\n",
    "    if sigpac_use in vineyard:\n",
    "        # Grapes for wine - 0.3, 0.7, 0.45\n",
    "        return 0.7  \n",
    "    if sigpac_use in olive_grove:\n",
    "        # Olive grove - ini: 0.65, med: 0.7, end: 0.7\n",
    "        return 0.7 \n",
    "    if sigpac_use in fruit:\n",
    "        # Apples, Cherries, Pears - 0.45, 0.95, 0.7\n",
    "        return 0.95\n",
    "    if sigpac_use in nuts:\n",
    "        # Almonds - 0.4, 0.9, 0.65\n",
    "        return 0.9\n",
    "    if sigpac_use in citrus:\n",
    "        # Citrus, without ground coverage - 0.7, 0.65, 0.7\n",
    "        return 0.65\n",
    "    \n",
    "    return None"
   ]
  },
  {
   "cell_type": "code",
   "execution_count": 38,
   "metadata": {},
   "outputs": [],
   "source": [
    "def get_geometry_window(src, geom_bounds):\n",
    "    left, bottom, right, top = geom_bounds\n",
    "    src_left, src_bottom, src_right, src_top = src.bounds\n",
    "    window = src.window(max(left,src_left), max(bottom,src_bottom), min(right,src_right), min(top,src_top))\n",
    "    window_floored = window.round_offsets(op='floor', pixel_precision=3)\n",
    "    w = math.ceil(window.width + window.col_off - window_floored.col_off)\n",
    "    h = math.ceil(window.height + window.row_off - window_floored.row_off)\n",
    "    return Window(window_floored.col_off, window_floored.row_off, w, h)     "
   ]
  },
  {
   "cell_type": "code",
   "execution_count": 39,
   "metadata": {},
   "outputs": [],
   "source": [
    "def compute_evapotranspiration_by_shape(tem, hum, win, rad, extrad, dst):\n",
    "    \n",
    "    import fiona\n",
    "    from shapely.geometry import shape, box\n",
    "    from rasterio import features\n",
    "    \n",
    "    non_arable_land = ['AG', 'CA', 'ED', 'FO', 'IM', 'PA', 'PR', 'ZU', 'ZV']\n",
    "    \n",
    "    with fiona.open('zip://shape.zip') as shape_src:\n",
    "        for feature in shape_src.filter(bbox=tem.bounds):\n",
    "            KC = get_kc(feature) \n",
    "            if KC is not None:   \n",
    "                geom = shape(feature['geometry'])  \n",
    "                window = get_geometry_window(tem, geom.bounds)              \n",
    "                win_transform = rasterio.windows.transform(window, tem.transform)\n",
    "                # Convert shape to raster matrix\n",
    "                image = features.rasterize([geom],\n",
    "                                           out_shape=(window.height, window.width),\n",
    "                                           transform = win_transform,\n",
    "                                           fill = 0,\n",
    "                                           default_value = 1).astype('bool')\n",
    "                # Get values to compute evapotranspiration\n",
    "                temperatures = tem.read(1, window=window)\n",
    "                humidities = hum.read(1, window=window)\n",
    "                wind_speeds = win.read(1, window=window)\n",
    "                # Convert from W to MJ (0.0036)\n",
    "                global_radiations = rad.read(1, window=window) * 0.0036\n",
    "                external_radiations = extrad.read(1, window=window) * 0.0036\n",
    "                KCs = np.full(temperatures.shape, KC)\n",
    "                # TODO: compute external radiation\n",
    "                #external_radiations = np.full(temperatures.shape, 14)\n",
    "                # TODO: compute global radiation\n",
    "                # global_radiations = np.full(temperatures.shape, 10)\n",
    "                etc = compute_crop_evapotranspiration(\n",
    "                        temperatures,\n",
    "                        humidities,\n",
    "                        wind_speeds,\n",
    "                        external_radiations,\n",
    "                        global_radiations,\n",
    "                        KCs\n",
    "                )\n",
    "                etc[temperatures == tem.nodata] = dst.nodata\n",
    "                etc[np.logical_not(image)] = dst.nodata\n",
    "                dst.write(etc + dst.read(1, window=window), 1, window=window)"
   ]
  },
  {
   "cell_type": "code",
   "execution_count": 40,
   "metadata": {},
   "outputs": [],
   "source": [
    "def compute_global_evapotranspiration(tem, hum, win, rad, extrad, dst):    \n",
    "    for ji, window in tem.block_windows(1):\n",
    "        bounds = rasterio.windows.bounds(window, tem.transform)\n",
    "        temperatures = tem.read(1, window=window)\n",
    "        humidities = hum.read(1, window=window)\n",
    "        wind_speeds = win.read(1, window=window)\n",
    "         # Convert from W to MJ (0.0036)\n",
    "        global_radiations = rad.read(1, window=window) * 0.0036\n",
    "        external_radiations = extrad.read(1, window=window) * 0.0036\n",
    "        # TODO: compute external radiation\n",
    "        #external_radiations = np.full(temperatures.shape, 14)\n",
    "        # TODO: compute global radiation\n",
    "        # global_radiations = np.full(temperatures.shape, 10)\n",
    "        # TODO: compute KCs\n",
    "        KCs = np.full(temperatures.shape, 1)\n",
    "        etc = compute_crop_evapotranspiration(\n",
    "                temperatures,\n",
    "                humidities,\n",
    "                wind_speeds,\n",
    "                external_radiations,\n",
    "                global_radiations,\n",
    "                KCs\n",
    "        )\n",
    "        dst.write(np.where(temperatures == tem.nodata, dst.nodata, etc), 1, window=window)"
   ]
  },
  {
   "cell_type": "code",
   "execution_count": 41,
   "metadata": {},
   "outputs": [],
   "source": [
    "def combine_calculations(tile, width, height, temperature, humidity, wind, radiation, ext_radiation, ibm_cos):\n",
    "    \n",
    "    from functools import partial\n",
    "    \n",
    "    item = tile[:tile.rfind('.')] + \"_ETC.tif\"\n",
    "    \n",
    "    # Download shapefile\n",
    "    shapefile = ibm_cos.get_object(Bucket=BUCKET, Key='shapefile.zip')['Body']\n",
    "    with open('shape.zip', 'wb') as shapf:\n",
    "        for chunk in iter(partial(shapefile.read, 200 * 1024 * 1024), ''):\n",
    "            if not chunk:\n",
    "                break\n",
    "            shapf.write(chunk)\n",
    "            \n",
    "    with rasterio.open(ibm_cos.get_object(Bucket=temperature[0], Key=temperature[1])['Body']) as tem:\n",
    "        profile = tem.profile\n",
    "        profile.update(nodata=0)\n",
    "        with rasterio.open(ibm_cos.get_object(Bucket=humidity[0], Key=humidity[1])['Body']) as hum:\n",
    "            with rasterio.open(ibm_cos.get_object(Bucket=wind[0], Key=wind[1])['Body']) as win:\n",
    "                with rasterio.open(ibm_cos.get_object(Bucket=radiation[0], Key=radiation[1])['Body']) as rad:\n",
    "                    with rasterio.open(ibm_cos.get_object(Bucket=radiation[0], Key=radiation[1])['Body']) as extrad:\n",
    "                        with rasterio.open('output', 'w+', **profile) as dst:\n",
    "                            #compute_global_evapotranspiration(tem, hum, win, rad, extrad, dst)\n",
    "                            compute_evapotranspiration_by_shape(tem, hum, win, rad, extrad, dst)\n",
    "\n",
    "    ibm_cos.put_object(Bucket = temperature[0], Key = item, Body = open('output', 'rb'))            \n",
    "    return item    "
   ]
  },
  {
   "cell_type": "code",
   "execution_count": 42,
   "metadata": {
    "scrolled": true
   },
   "outputs": [
    {
     "output_type": "stream",
     "name": "stdout",
     "text": [
      "Lithops v2.2.3-SNAPSHOT init for IBM Cloud Functions - Namespace: cloudlab_urv_us_south - Region: us_south\n",
      "ExecutorID 946f05/3 | JobID M000 - Selected Runtime: cloudbuttonans/geospatial-runtime:3.7-v4 - 2048MB \n",
      "ExecutorID 946f05/3 | JobID M000 - Uploading function and data - Total: 5.5KiB\n",
      "0/|/ 0/3ExecutorID 946f05/3 | JobID M000 - Starting function invocation: combine_calculations() - Total: 3 activations\n",
      "ExecutorID 946f05/3 - Getting results...\n",
      "3/|/ 3/3ExecutorID 946f05/3 - Cleaning temporary data\n",
      "\n"
     ]
    }
   ],
   "source": [
    "lith = lithops.FunctionExecutor(runtime='cloudbuttonans/geospatial-runtime:3.7-v4')\n",
    "lith.map(combine_calculations, gatherdata, timeout=600, runtime_memory=2048)\n",
    "evapotranspiration_result = lith.get_result()\n",
    "evapotranspiration_results = evapotranspiration_result if isinstance(evapotranspiration_result, list) else [evapotranspiration_result]"
   ]
  },
  {
   "cell_type": "markdown",
   "metadata": {},
   "source": [
    "## Visualization of results"
   ]
  },
  {
   "cell_type": "code",
   "execution_count": 48,
   "metadata": {},
   "outputs": [
    {
     "output_type": "display_data",
     "data": {
      "text/plain": "<Figure size 1440x2160 with 6 Axes>",
      "image/svg+xml": "<?xml version=\"1.0\" encoding=\"utf-8\" standalone=\"no\"?>\n<!DOCTYPE svg PUBLIC \"-//W3C//DTD SVG 1.1//EN\"\n  \"http://www.w3.org/Graphics/SVG/1.1/DTD/svg11.dtd\">\n<!-- Created with matplotlib (https://matplotlib.org/) -->\n<svg height=\"1284.241761pt\" version=\"1.1\" viewBox=\"0 0 1142.936222 1284.241761\" width=\"1142.936222pt\" xmlns=\"http://www.w3.org/2000/svg\" xmlns:xlink=\"http://www.w3.org/1999/xlink\">\n <defs>\n  <style type=\"text/css\">\n*{stroke-linecap:butt;stroke-linejoin:round;}\n  </style>\n </defs>\n <g id=\"figure_1\">\n  <g id=\"patch_1\">\n   <path d=\"M 0 1284.241761 \nL 1142.936222 1284.241761 \nL 1142.936222 0 \nL 0 0 \nz\n\" style=\"fill:none;\"/>\n  </g>\n  <g id=\"axes_1\">\n   <g id=\"patch_2\">\n    <path d=\"M 33.2875 326.369872 \nL 439.105682 326.369872 \nL 439.105682 66.26493 \nL 33.2875 66.26493 \nz\n\" style=\"fill:#ffffff;\"/>\n   </g>\n   <g clip-path=\"url(#p7cfd295637)\">\n    <image height=\"261\" id=\"image08ae8e2281\" transform=\"scale(1 -1)translate(0 -261)\" width=\"406\" x=\"33.2875\" xlink:href=\"data:image/png;base64,\niVBORw0KGgoAAAANSUhEUgAAAZYAAAEFCAYAAADACsF7AAAABHNCSVQICAgIfAhkiAAAA9VJREFUeJzt1cEJwCAAwEB1kg7sw43bJQJCuZsgv8zn7HcAQGTdDgDgX4wFgJSxAJAyFgBSxgJAylgASBkLACljASBlLACkjAWAlLEAkDIWAFLGAkDKWABIGQsAKWMBIGUsAKSMBYCUsQCQMhYAUsYCQMpYAEgZCwApYwEgZSwApIwFgJSxAJAyFgBSxgJAylgASBkLACljASBlLACkjAWAlLEAkDIWAFLGAkDKWABIGQsAKWMBIGUsAKSMBYCUsQCQMhYAUsYCQMpYAEgZCwApYwEgZSwApIwFgJSxAJAyFgBSxgJAylgASBkLACljASBlLACkjAWAlLEAkDIWAFLGAkDKWABIGQsAKWMBIGUsAKSMBYCUsQCQMhYAUsYCQMpYAEgZCwApYwEgZSwApIwFgJSxAJAyFgBSxgJAylgASBkLACljASBlLACkjAWAlLEAkDIWAFLGAkDKWABIGQsAKWMBIGUsAKSMBYCUsQCQMhYAUsYCQMpYAEgZCwApYwEgZSwApIwFgJSxAJAyFgBSxgJAylgASBkLACljASBlLACkjAWAlLEAkDIWAFLGAkDKWABIGQsAKWMBIGUsAKSMBYCUsQCQMhYAUsYCQMpYAEgZCwApYwEgZSwApIwFgJSxAJAyFgBSxgJAylgASBkLACljASBlLACkjAWAlLEAkDIWAFLGAkDKWABIGQsAKWMBIGUsAKSMBYCUsQCQMhYAUsYCQMpYAEgZCwApYwEgZSwApIwFgJSxAJAyFgBSxgJAylgASBkLACljASBlLACkjAWAlLEAkDIWAFLGAkDKWABIGQsAKWMBIGUsAKSMBYCUsQCQMhYAUsYCQMpYAEgZCwApYwEgZSwApIwFgJSxAJAyFgBSxgJAylgASBkLACljASBlLACkjAWAlLEAkDIWAFLGAkDKWABIGQsAKWMBIGUsAKSMBYCUsQCQMhYAUsYCQMpYAEgZCwApYwEgZSwApIwFgJSxAJAyFgBSxgJAylgASBkLACljASBlLACkjAWAlLEAkDIWAFLGAkDKWABIGQsAKWMBIGUsAKSMBYCUsQCQMhYAUsYCQMpYAEgZCwApYwEgZSwApIwFgJSxAJAyFgBSxgJAylgASBkLACljASBlLACkjAWAlLEAkDIWAFLGAkDKWABIGQsAKWMBIGUsAKSMBYCUsQCQMhYAUsYCQMpYAEgZCwApYwEgZSwApIwFgJSxAJAyFgBSxgJAylgASBkLACljASBlLACkjAWAlLEAkDIWAFLGAkDKWABIGQsAKWMBIGUsAKSMBYCUsQCQMhYAUh8UDQRFNGvLngAAAABJRU5ErkJggg==\" y=\"-65.369872\"/>\n   </g>\n   <g id=\"matplotlib.axis_1\">\n    <g id=\"xtick_1\">\n     <g id=\"line2d_1\">\n      <defs>\n       <path d=\"M 0 0 \nL 0 3.5 \n\" id=\"m20ac79745a\" style=\"stroke:#000000;stroke-width:0.8;\"/>\n      </defs>\n      <g>\n       <use style=\"stroke:#000000;stroke-width:0.8;\" x=\"33.627951\" xlink:href=\"#m20ac79745a\" y=\"326.369872\"/>\n      </g>\n     </g>\n     <g id=\"text_1\">\n      <!-- 0 -->\n      <defs>\n       <path d=\"M 31.78125 66.40625 \nQ 24.171875 66.40625 20.328125 58.90625 \nQ 16.5 51.421875 16.5 36.375 \nQ 16.5 21.390625 20.328125 13.890625 \nQ 24.171875 6.390625 31.78125 6.390625 \nQ 39.453125 6.390625 43.28125 13.890625 \nQ 47.125 21.390625 47.125 36.375 \nQ 47.125 51.421875 43.28125 58.90625 \nQ 39.453125 66.40625 31.78125 66.40625 \nz\nM 31.78125 74.21875 \nQ 44.046875 74.21875 50.515625 64.515625 \nQ 56.984375 54.828125 56.984375 36.375 \nQ 56.984375 17.96875 50.515625 8.265625 \nQ 44.046875 -1.421875 31.78125 -1.421875 \nQ 19.53125 -1.421875 13.0625 8.265625 \nQ 6.59375 17.96875 6.59375 36.375 \nQ 6.59375 54.828125 13.0625 64.515625 \nQ 19.53125 74.21875 31.78125 74.21875 \nz\n\" id=\"DejaVuSans-48\"/>\n      </defs>\n      <g transform=\"translate(30.446701 340.968309)scale(0.1 -0.1)\">\n       <use xlink:href=\"#DejaVuSans-48\"/>\n      </g>\n     </g>\n    </g>\n    <g id=\"xtick_2\">\n     <g id=\"line2d_2\">\n      <g>\n       <use style=\"stroke:#000000;stroke-width:0.8;\" x=\"101.71825\" xlink:href=\"#m20ac79745a\" y=\"326.369872\"/>\n      </g>\n     </g>\n     <g id=\"text_2\">\n      <!-- 100 -->\n      <defs>\n       <path d=\"M 12.40625 8.296875 \nL 28.515625 8.296875 \nL 28.515625 63.921875 \nL 10.984375 60.40625 \nL 10.984375 69.390625 \nL 28.421875 72.90625 \nL 38.28125 72.90625 \nL 38.28125 8.296875 \nL 54.390625 8.296875 \nL 54.390625 0 \nL 12.40625 0 \nz\n\" id=\"DejaVuSans-49\"/>\n      </defs>\n      <g transform=\"translate(92.1745 340.968309)scale(0.1 -0.1)\">\n       <use xlink:href=\"#DejaVuSans-49\"/>\n       <use x=\"63.623047\" xlink:href=\"#DejaVuSans-48\"/>\n       <use x=\"127.246094\" xlink:href=\"#DejaVuSans-48\"/>\n      </g>\n     </g>\n    </g>\n    <g id=\"xtick_3\">\n     <g id=\"line2d_3\">\n      <g>\n       <use style=\"stroke:#000000;stroke-width:0.8;\" x=\"169.808549\" xlink:href=\"#m20ac79745a\" y=\"326.369872\"/>\n      </g>\n     </g>\n     <g id=\"text_3\">\n      <!-- 200 -->\n      <defs>\n       <path d=\"M 19.1875 8.296875 \nL 53.609375 8.296875 \nL 53.609375 0 \nL 7.328125 0 \nL 7.328125 8.296875 \nQ 12.9375 14.109375 22.625 23.890625 \nQ 32.328125 33.6875 34.8125 36.53125 \nQ 39.546875 41.84375 41.421875 45.53125 \nQ 43.3125 49.21875 43.3125 52.78125 \nQ 43.3125 58.59375 39.234375 62.25 \nQ 35.15625 65.921875 28.609375 65.921875 \nQ 23.96875 65.921875 18.8125 64.3125 \nQ 13.671875 62.703125 7.8125 59.421875 \nL 7.8125 69.390625 \nQ 13.765625 71.78125 18.9375 73 \nQ 24.125 74.21875 28.421875 74.21875 \nQ 39.75 74.21875 46.484375 68.546875 \nQ 53.21875 62.890625 53.21875 53.421875 \nQ 53.21875 48.921875 51.53125 44.890625 \nQ 49.859375 40.875 45.40625 35.40625 \nQ 44.1875 33.984375 37.640625 27.21875 \nQ 31.109375 20.453125 19.1875 8.296875 \nz\n\" id=\"DejaVuSans-50\"/>\n      </defs>\n      <g transform=\"translate(160.264799 340.968309)scale(0.1 -0.1)\">\n       <use xlink:href=\"#DejaVuSans-50\"/>\n       <use x=\"63.623047\" xlink:href=\"#DejaVuSans-48\"/>\n       <use x=\"127.246094\" xlink:href=\"#DejaVuSans-48\"/>\n      </g>\n     </g>\n    </g>\n    <g id=\"xtick_4\">\n     <g id=\"line2d_4\">\n      <g>\n       <use style=\"stroke:#000000;stroke-width:0.8;\" x=\"237.898848\" xlink:href=\"#m20ac79745a\" y=\"326.369872\"/>\n      </g>\n     </g>\n     <g id=\"text_4\">\n      <!-- 300 -->\n      <defs>\n       <path d=\"M 40.578125 39.3125 \nQ 47.65625 37.796875 51.625 33 \nQ 55.609375 28.21875 55.609375 21.1875 \nQ 55.609375 10.40625 48.1875 4.484375 \nQ 40.765625 -1.421875 27.09375 -1.421875 \nQ 22.515625 -1.421875 17.65625 -0.515625 \nQ 12.796875 0.390625 7.625 2.203125 \nL 7.625 11.71875 \nQ 11.71875 9.328125 16.59375 8.109375 \nQ 21.484375 6.890625 26.8125 6.890625 \nQ 36.078125 6.890625 40.9375 10.546875 \nQ 45.796875 14.203125 45.796875 21.1875 \nQ 45.796875 27.640625 41.28125 31.265625 \nQ 36.765625 34.90625 28.71875 34.90625 \nL 20.21875 34.90625 \nL 20.21875 43.015625 \nL 29.109375 43.015625 \nQ 36.375 43.015625 40.234375 45.921875 \nQ 44.09375 48.828125 44.09375 54.296875 \nQ 44.09375 59.90625 40.109375 62.90625 \nQ 36.140625 65.921875 28.71875 65.921875 \nQ 24.65625 65.921875 20.015625 65.03125 \nQ 15.375 64.15625 9.8125 62.3125 \nL 9.8125 71.09375 \nQ 15.4375 72.65625 20.34375 73.4375 \nQ 25.25 74.21875 29.59375 74.21875 \nQ 40.828125 74.21875 47.359375 69.109375 \nQ 53.90625 64.015625 53.90625 55.328125 \nQ 53.90625 49.265625 50.4375 45.09375 \nQ 46.96875 40.921875 40.578125 39.3125 \nz\n\" id=\"DejaVuSans-51\"/>\n      </defs>\n      <g transform=\"translate(228.355098 340.968309)scale(0.1 -0.1)\">\n       <use xlink:href=\"#DejaVuSans-51\"/>\n       <use x=\"63.623047\" xlink:href=\"#DejaVuSans-48\"/>\n       <use x=\"127.246094\" xlink:href=\"#DejaVuSans-48\"/>\n      </g>\n     </g>\n    </g>\n    <g id=\"xtick_5\">\n     <g id=\"line2d_5\">\n      <g>\n       <use style=\"stroke:#000000;stroke-width:0.8;\" x=\"305.989147\" xlink:href=\"#m20ac79745a\" y=\"326.369872\"/>\n      </g>\n     </g>\n     <g id=\"text_5\">\n      <!-- 400 -->\n      <defs>\n       <path d=\"M 37.796875 64.3125 \nL 12.890625 25.390625 \nL 37.796875 25.390625 \nz\nM 35.203125 72.90625 \nL 47.609375 72.90625 \nL 47.609375 25.390625 \nL 58.015625 25.390625 \nL 58.015625 17.1875 \nL 47.609375 17.1875 \nL 47.609375 0 \nL 37.796875 0 \nL 37.796875 17.1875 \nL 4.890625 17.1875 \nL 4.890625 26.703125 \nz\n\" id=\"DejaVuSans-52\"/>\n      </defs>\n      <g transform=\"translate(296.445397 340.968309)scale(0.1 -0.1)\">\n       <use xlink:href=\"#DejaVuSans-52\"/>\n       <use x=\"63.623047\" xlink:href=\"#DejaVuSans-48\"/>\n       <use x=\"127.246094\" xlink:href=\"#DejaVuSans-48\"/>\n      </g>\n     </g>\n    </g>\n    <g id=\"xtick_6\">\n     <g id=\"line2d_6\">\n      <g>\n       <use style=\"stroke:#000000;stroke-width:0.8;\" x=\"374.079446\" xlink:href=\"#m20ac79745a\" y=\"326.369872\"/>\n      </g>\n     </g>\n     <g id=\"text_6\">\n      <!-- 500 -->\n      <defs>\n       <path d=\"M 10.796875 72.90625 \nL 49.515625 72.90625 \nL 49.515625 64.59375 \nL 19.828125 64.59375 \nL 19.828125 46.734375 \nQ 21.96875 47.46875 24.109375 47.828125 \nQ 26.265625 48.1875 28.421875 48.1875 \nQ 40.625 48.1875 47.75 41.5 \nQ 54.890625 34.8125 54.890625 23.390625 \nQ 54.890625 11.625 47.5625 5.09375 \nQ 40.234375 -1.421875 26.90625 -1.421875 \nQ 22.3125 -1.421875 17.546875 -0.640625 \nQ 12.796875 0.140625 7.71875 1.703125 \nL 7.71875 11.625 \nQ 12.109375 9.234375 16.796875 8.0625 \nQ 21.484375 6.890625 26.703125 6.890625 \nQ 35.15625 6.890625 40.078125 11.328125 \nQ 45.015625 15.765625 45.015625 23.390625 \nQ 45.015625 31 40.078125 35.4375 \nQ 35.15625 39.890625 26.703125 39.890625 \nQ 22.75 39.890625 18.8125 39.015625 \nQ 14.890625 38.140625 10.796875 36.28125 \nz\n\" id=\"DejaVuSans-53\"/>\n      </defs>\n      <g transform=\"translate(364.535696 340.968309)scale(0.1 -0.1)\">\n       <use xlink:href=\"#DejaVuSans-53\"/>\n       <use x=\"63.623047\" xlink:href=\"#DejaVuSans-48\"/>\n       <use x=\"127.246094\" xlink:href=\"#DejaVuSans-48\"/>\n      </g>\n     </g>\n    </g>\n   </g>\n   <g id=\"matplotlib.axis_2\">\n    <g id=\"ytick_1\">\n     <g id=\"line2d_7\">\n      <defs>\n       <path d=\"M 0 0 \nL -3.5 0 \n\" id=\"m0efeffb9a3\" style=\"stroke:#000000;stroke-width:0.8;\"/>\n      </defs>\n      <g>\n       <use style=\"stroke:#000000;stroke-width:0.8;\" x=\"33.2875\" xlink:href=\"#m0efeffb9a3\" y=\"66.605381\"/>\n      </g>\n     </g>\n     <g id=\"text_7\">\n      <!-- 0 -->\n      <g transform=\"translate(19.925 70.4046)scale(0.1 -0.1)\">\n       <use xlink:href=\"#DejaVuSans-48\"/>\n      </g>\n     </g>\n    </g>\n    <g id=\"ytick_2\">\n     <g id=\"line2d_8\">\n      <g>\n       <use style=\"stroke:#000000;stroke-width:0.8;\" x=\"33.2875\" xlink:href=\"#m0efeffb9a3\" y=\"100.650531\"/>\n      </g>\n     </g>\n     <g id=\"text_8\">\n      <!-- 50 -->\n      <g transform=\"translate(13.5625 104.449749)scale(0.1 -0.1)\">\n       <use xlink:href=\"#DejaVuSans-53\"/>\n       <use x=\"63.623047\" xlink:href=\"#DejaVuSans-48\"/>\n      </g>\n     </g>\n    </g>\n    <g id=\"ytick_3\">\n     <g id=\"line2d_9\">\n      <g>\n       <use style=\"stroke:#000000;stroke-width:0.8;\" x=\"33.2875\" xlink:href=\"#m0efeffb9a3\" y=\"134.69568\"/>\n      </g>\n     </g>\n     <g id=\"text_9\">\n      <!-- 100 -->\n      <g transform=\"translate(7.2 138.494899)scale(0.1 -0.1)\">\n       <use xlink:href=\"#DejaVuSans-49\"/>\n       <use x=\"63.623047\" xlink:href=\"#DejaVuSans-48\"/>\n       <use x=\"127.246094\" xlink:href=\"#DejaVuSans-48\"/>\n      </g>\n     </g>\n    </g>\n    <g id=\"ytick_4\">\n     <g id=\"line2d_10\">\n      <g>\n       <use style=\"stroke:#000000;stroke-width:0.8;\" x=\"33.2875\" xlink:href=\"#m0efeffb9a3\" y=\"168.740829\"/>\n      </g>\n     </g>\n     <g id=\"text_10\">\n      <!-- 150 -->\n      <g transform=\"translate(7.2 172.540048)scale(0.1 -0.1)\">\n       <use xlink:href=\"#DejaVuSans-49\"/>\n       <use x=\"63.623047\" xlink:href=\"#DejaVuSans-53\"/>\n       <use x=\"127.246094\" xlink:href=\"#DejaVuSans-48\"/>\n      </g>\n     </g>\n    </g>\n    <g id=\"ytick_5\">\n     <g id=\"line2d_11\">\n      <g>\n       <use style=\"stroke:#000000;stroke-width:0.8;\" x=\"33.2875\" xlink:href=\"#m0efeffb9a3\" y=\"202.785979\"/>\n      </g>\n     </g>\n     <g id=\"text_11\">\n      <!-- 200 -->\n      <g transform=\"translate(7.2 206.585198)scale(0.1 -0.1)\">\n       <use xlink:href=\"#DejaVuSans-50\"/>\n       <use x=\"63.623047\" xlink:href=\"#DejaVuSans-48\"/>\n       <use x=\"127.246094\" xlink:href=\"#DejaVuSans-48\"/>\n      </g>\n     </g>\n    </g>\n    <g id=\"ytick_6\">\n     <g id=\"line2d_12\">\n      <g>\n       <use style=\"stroke:#000000;stroke-width:0.8;\" x=\"33.2875\" xlink:href=\"#m0efeffb9a3\" y=\"236.831128\"/>\n      </g>\n     </g>\n     <g id=\"text_12\">\n      <!-- 250 -->\n      <g transform=\"translate(7.2 240.630347)scale(0.1 -0.1)\">\n       <use xlink:href=\"#DejaVuSans-50\"/>\n       <use x=\"63.623047\" xlink:href=\"#DejaVuSans-53\"/>\n       <use x=\"127.246094\" xlink:href=\"#DejaVuSans-48\"/>\n      </g>\n     </g>\n    </g>\n    <g id=\"ytick_7\">\n     <g id=\"line2d_13\">\n      <g>\n       <use style=\"stroke:#000000;stroke-width:0.8;\" x=\"33.2875\" xlink:href=\"#m0efeffb9a3\" y=\"270.876278\"/>\n      </g>\n     </g>\n     <g id=\"text_13\">\n      <!-- 300 -->\n      <g transform=\"translate(7.2 274.675497)scale(0.1 -0.1)\">\n       <use xlink:href=\"#DejaVuSans-51\"/>\n       <use x=\"63.623047\" xlink:href=\"#DejaVuSans-48\"/>\n       <use x=\"127.246094\" xlink:href=\"#DejaVuSans-48\"/>\n      </g>\n     </g>\n    </g>\n    <g id=\"ytick_8\">\n     <g id=\"line2d_14\">\n      <g>\n       <use style=\"stroke:#000000;stroke-width:0.8;\" x=\"33.2875\" xlink:href=\"#m0efeffb9a3\" y=\"304.921427\"/>\n      </g>\n     </g>\n     <g id=\"text_14\">\n      <!-- 350 -->\n      <g transform=\"translate(7.2 308.720646)scale(0.1 -0.1)\">\n       <use xlink:href=\"#DejaVuSans-51\"/>\n       <use x=\"63.623047\" xlink:href=\"#DejaVuSans-53\"/>\n       <use x=\"127.246094\" xlink:href=\"#DejaVuSans-48\"/>\n      </g>\n     </g>\n    </g>\n   </g>\n   <g id=\"patch_3\">\n    <path d=\"M 33.2875 326.369872 \nL 33.2875 66.26493 \n\" style=\"fill:none;stroke:#000000;stroke-linecap:square;stroke-linejoin:miter;stroke-width:0.8;\"/>\n   </g>\n   <g id=\"patch_4\">\n    <path d=\"M 439.105682 326.369872 \nL 439.105682 66.26493 \n\" style=\"fill:none;stroke:#000000;stroke-linecap:square;stroke-linejoin:miter;stroke-width:0.8;\"/>\n   </g>\n   <g id=\"patch_5\">\n    <path d=\"M 33.2875 326.369872 \nL 439.105682 326.369872 \n\" style=\"fill:none;stroke:#000000;stroke-linecap:square;stroke-linejoin:miter;stroke-width:0.8;\"/>\n   </g>\n   <g id=\"patch_6\">\n    <path d=\"M 33.2875 66.26493 \nL 439.105682 66.26493 \n\" style=\"fill:none;stroke:#000000;stroke-linecap:square;stroke-linejoin:miter;stroke-width:0.8;\"/>\n   </g>\n   <g id=\"text_15\">\n    <!-- PNOA_MDT05_ETRS89_HU30_0954_LID_ETC.tif -->\n    <defs>\n     <path d=\"M 19.671875 64.796875 \nL 19.671875 37.40625 \nL 32.078125 37.40625 \nQ 38.96875 37.40625 42.71875 40.96875 \nQ 46.484375 44.53125 46.484375 51.125 \nQ 46.484375 57.671875 42.71875 61.234375 \nQ 38.96875 64.796875 32.078125 64.796875 \nz\nM 9.8125 72.90625 \nL 32.078125 72.90625 \nQ 44.34375 72.90625 50.609375 67.359375 \nQ 56.890625 61.8125 56.890625 51.125 \nQ 56.890625 40.328125 50.609375 34.8125 \nQ 44.34375 29.296875 32.078125 29.296875 \nL 19.671875 29.296875 \nL 19.671875 0 \nL 9.8125 0 \nz\n\" id=\"DejaVuSans-80\"/>\n     <path d=\"M 9.8125 72.90625 \nL 23.09375 72.90625 \nL 55.421875 11.921875 \nL 55.421875 72.90625 \nL 64.984375 72.90625 \nL 64.984375 0 \nL 51.703125 0 \nL 19.390625 60.984375 \nL 19.390625 0 \nL 9.8125 0 \nz\n\" id=\"DejaVuSans-78\"/>\n     <path d=\"M 39.40625 66.21875 \nQ 28.65625 66.21875 22.328125 58.203125 \nQ 16.015625 50.203125 16.015625 36.375 \nQ 16.015625 22.609375 22.328125 14.59375 \nQ 28.65625 6.59375 39.40625 6.59375 \nQ 50.140625 6.59375 56.421875 14.59375 \nQ 62.703125 22.609375 62.703125 36.375 \nQ 62.703125 50.203125 56.421875 58.203125 \nQ 50.140625 66.21875 39.40625 66.21875 \nz\nM 39.40625 74.21875 \nQ 54.734375 74.21875 63.90625 63.9375 \nQ 73.09375 53.65625 73.09375 36.375 \nQ 73.09375 19.140625 63.90625 8.859375 \nQ 54.734375 -1.421875 39.40625 -1.421875 \nQ 24.03125 -1.421875 14.8125 8.828125 \nQ 5.609375 19.09375 5.609375 36.375 \nQ 5.609375 53.65625 14.8125 63.9375 \nQ 24.03125 74.21875 39.40625 74.21875 \nz\n\" id=\"DejaVuSans-79\"/>\n     <path d=\"M 34.1875 63.1875 \nL 20.796875 26.90625 \nL 47.609375 26.90625 \nz\nM 28.609375 72.90625 \nL 39.796875 72.90625 \nL 67.578125 0 \nL 57.328125 0 \nL 50.6875 18.703125 \nL 17.828125 18.703125 \nL 11.1875 0 \nL 0.78125 0 \nz\n\" id=\"DejaVuSans-65\"/>\n     <path d=\"M 50.984375 -16.609375 \nL 50.984375 -23.578125 \nL -0.984375 -23.578125 \nL -0.984375 -16.609375 \nz\n\" id=\"DejaVuSans-95\"/>\n     <path d=\"M 9.8125 72.90625 \nL 24.515625 72.90625 \nL 43.109375 23.296875 \nL 61.8125 72.90625 \nL 76.515625 72.90625 \nL 76.515625 0 \nL 66.890625 0 \nL 66.890625 64.015625 \nL 48.09375 14.015625 \nL 38.1875 14.015625 \nL 19.390625 64.015625 \nL 19.390625 0 \nL 9.8125 0 \nz\n\" id=\"DejaVuSans-77\"/>\n     <path d=\"M 19.671875 64.796875 \nL 19.671875 8.109375 \nL 31.59375 8.109375 \nQ 46.6875 8.109375 53.6875 14.9375 \nQ 60.6875 21.78125 60.6875 36.53125 \nQ 60.6875 51.171875 53.6875 57.984375 \nQ 46.6875 64.796875 31.59375 64.796875 \nz\nM 9.8125 72.90625 \nL 30.078125 72.90625 \nQ 51.265625 72.90625 61.171875 64.09375 \nQ 71.09375 55.28125 71.09375 36.53125 \nQ 71.09375 17.671875 61.125 8.828125 \nQ 51.171875 0 30.078125 0 \nL 9.8125 0 \nz\n\" id=\"DejaVuSans-68\"/>\n     <path d=\"M -0.296875 72.90625 \nL 61.375 72.90625 \nL 61.375 64.59375 \nL 35.5 64.59375 \nL 35.5 0 \nL 25.59375 0 \nL 25.59375 64.59375 \nL -0.296875 64.59375 \nz\n\" id=\"DejaVuSans-84\"/>\n     <path d=\"M 9.8125 72.90625 \nL 55.90625 72.90625 \nL 55.90625 64.59375 \nL 19.671875 64.59375 \nL 19.671875 43.015625 \nL 54.390625 43.015625 \nL 54.390625 34.71875 \nL 19.671875 34.71875 \nL 19.671875 8.296875 \nL 56.78125 8.296875 \nL 56.78125 0 \nL 9.8125 0 \nz\n\" id=\"DejaVuSans-69\"/>\n     <path d=\"M 44.390625 34.1875 \nQ 47.5625 33.109375 50.5625 29.59375 \nQ 53.5625 26.078125 56.59375 19.921875 \nL 66.609375 0 \nL 56 0 \nL 46.6875 18.703125 \nQ 43.0625 26.03125 39.671875 28.421875 \nQ 36.28125 30.8125 30.421875 30.8125 \nL 19.671875 30.8125 \nL 19.671875 0 \nL 9.8125 0 \nL 9.8125 72.90625 \nL 32.078125 72.90625 \nQ 44.578125 72.90625 50.734375 67.671875 \nQ 56.890625 62.453125 56.890625 51.90625 \nQ 56.890625 45.015625 53.6875 40.46875 \nQ 50.484375 35.9375 44.390625 34.1875 \nz\nM 19.671875 64.796875 \nL 19.671875 38.921875 \nL 32.078125 38.921875 \nQ 39.203125 38.921875 42.84375 42.21875 \nQ 46.484375 45.515625 46.484375 51.90625 \nQ 46.484375 58.296875 42.84375 61.546875 \nQ 39.203125 64.796875 32.078125 64.796875 \nz\n\" id=\"DejaVuSans-82\"/>\n     <path d=\"M 53.515625 70.515625 \nL 53.515625 60.890625 \nQ 47.90625 63.578125 42.921875 64.890625 \nQ 37.9375 66.21875 33.296875 66.21875 \nQ 25.25 66.21875 20.875 63.09375 \nQ 16.5 59.96875 16.5 54.203125 \nQ 16.5 49.359375 19.40625 46.890625 \nQ 22.3125 44.4375 30.421875 42.921875 \nL 36.375 41.703125 \nQ 47.40625 39.59375 52.65625 34.296875 \nQ 57.90625 29 57.90625 20.125 \nQ 57.90625 9.515625 50.796875 4.046875 \nQ 43.703125 -1.421875 29.984375 -1.421875 \nQ 24.8125 -1.421875 18.96875 -0.25 \nQ 13.140625 0.921875 6.890625 3.21875 \nL 6.890625 13.375 \nQ 12.890625 10.015625 18.65625 8.296875 \nQ 24.421875 6.59375 29.984375 6.59375 \nQ 38.421875 6.59375 43.015625 9.90625 \nQ 47.609375 13.234375 47.609375 19.390625 \nQ 47.609375 24.75 44.3125 27.78125 \nQ 41.015625 30.8125 33.5 32.328125 \nL 27.484375 33.5 \nQ 16.453125 35.6875 11.515625 40.375 \nQ 6.59375 45.0625 6.59375 53.421875 \nQ 6.59375 63.09375 13.40625 68.65625 \nQ 20.21875 74.21875 32.171875 74.21875 \nQ 37.3125 74.21875 42.625 73.28125 \nQ 47.953125 72.359375 53.515625 70.515625 \nz\n\" id=\"DejaVuSans-83\"/>\n     <path d=\"M 31.78125 34.625 \nQ 24.75 34.625 20.71875 30.859375 \nQ 16.703125 27.09375 16.703125 20.515625 \nQ 16.703125 13.921875 20.71875 10.15625 \nQ 24.75 6.390625 31.78125 6.390625 \nQ 38.8125 6.390625 42.859375 10.171875 \nQ 46.921875 13.96875 46.921875 20.515625 \nQ 46.921875 27.09375 42.890625 30.859375 \nQ 38.875 34.625 31.78125 34.625 \nz\nM 21.921875 38.8125 \nQ 15.578125 40.375 12.03125 44.71875 \nQ 8.5 49.078125 8.5 55.328125 \nQ 8.5 64.0625 14.71875 69.140625 \nQ 20.953125 74.21875 31.78125 74.21875 \nQ 42.671875 74.21875 48.875 69.140625 \nQ 55.078125 64.0625 55.078125 55.328125 \nQ 55.078125 49.078125 51.53125 44.71875 \nQ 48 40.375 41.703125 38.8125 \nQ 48.828125 37.15625 52.796875 32.3125 \nQ 56.78125 27.484375 56.78125 20.515625 \nQ 56.78125 9.90625 50.3125 4.234375 \nQ 43.84375 -1.421875 31.78125 -1.421875 \nQ 19.734375 -1.421875 13.25 4.234375 \nQ 6.78125 9.90625 6.78125 20.515625 \nQ 6.78125 27.484375 10.78125 32.3125 \nQ 14.796875 37.15625 21.921875 38.8125 \nz\nM 18.3125 54.390625 \nQ 18.3125 48.734375 21.84375 45.5625 \nQ 25.390625 42.390625 31.78125 42.390625 \nQ 38.140625 42.390625 41.71875 45.5625 \nQ 45.3125 48.734375 45.3125 54.390625 \nQ 45.3125 60.0625 41.71875 63.234375 \nQ 38.140625 66.40625 31.78125 66.40625 \nQ 25.390625 66.40625 21.84375 63.234375 \nQ 18.3125 60.0625 18.3125 54.390625 \nz\n\" id=\"DejaVuSans-56\"/>\n     <path d=\"M 10.984375 1.515625 \nL 10.984375 10.5 \nQ 14.703125 8.734375 18.5 7.8125 \nQ 22.3125 6.890625 25.984375 6.890625 \nQ 35.75 6.890625 40.890625 13.453125 \nQ 46.046875 20.015625 46.78125 33.40625 \nQ 43.953125 29.203125 39.59375 26.953125 \nQ 35.25 24.703125 29.984375 24.703125 \nQ 19.046875 24.703125 12.671875 31.3125 \nQ 6.296875 37.9375 6.296875 49.421875 \nQ 6.296875 60.640625 12.9375 67.421875 \nQ 19.578125 74.21875 30.609375 74.21875 \nQ 43.265625 74.21875 49.921875 64.515625 \nQ 56.59375 54.828125 56.59375 36.375 \nQ 56.59375 19.140625 48.40625 8.859375 \nQ 40.234375 -1.421875 26.421875 -1.421875 \nQ 22.703125 -1.421875 18.890625 -0.6875 \nQ 15.09375 0.046875 10.984375 1.515625 \nz\nM 30.609375 32.421875 \nQ 37.25 32.421875 41.125 36.953125 \nQ 45.015625 41.5 45.015625 49.421875 \nQ 45.015625 57.28125 41.125 61.84375 \nQ 37.25 66.40625 30.609375 66.40625 \nQ 23.96875 66.40625 20.09375 61.84375 \nQ 16.21875 57.28125 16.21875 49.421875 \nQ 16.21875 41.5 20.09375 36.953125 \nQ 23.96875 32.421875 30.609375 32.421875 \nz\n\" id=\"DejaVuSans-57\"/>\n     <path d=\"M 9.8125 72.90625 \nL 19.671875 72.90625 \nL 19.671875 43.015625 \nL 55.515625 43.015625 \nL 55.515625 72.90625 \nL 65.375 72.90625 \nL 65.375 0 \nL 55.515625 0 \nL 55.515625 34.71875 \nL 19.671875 34.71875 \nL 19.671875 0 \nL 9.8125 0 \nz\n\" id=\"DejaVuSans-72\"/>\n     <path d=\"M 8.6875 72.90625 \nL 18.609375 72.90625 \nL 18.609375 28.609375 \nQ 18.609375 16.890625 22.84375 11.734375 \nQ 27.09375 6.59375 36.625 6.59375 \nQ 46.09375 6.59375 50.34375 11.734375 \nQ 54.59375 16.890625 54.59375 28.609375 \nL 54.59375 72.90625 \nL 64.5 72.90625 \nL 64.5 27.390625 \nQ 64.5 13.140625 57.4375 5.859375 \nQ 50.390625 -1.421875 36.625 -1.421875 \nQ 22.796875 -1.421875 15.734375 5.859375 \nQ 8.6875 13.140625 8.6875 27.390625 \nz\n\" id=\"DejaVuSans-85\"/>\n     <path d=\"M 9.8125 72.90625 \nL 19.671875 72.90625 \nL 19.671875 8.296875 \nL 55.171875 8.296875 \nL 55.171875 0 \nL 9.8125 0 \nz\n\" id=\"DejaVuSans-76\"/>\n     <path d=\"M 9.8125 72.90625 \nL 19.671875 72.90625 \nL 19.671875 0 \nL 9.8125 0 \nz\n\" id=\"DejaVuSans-73\"/>\n     <path d=\"M 64.40625 67.28125 \nL 64.40625 56.890625 \nQ 59.421875 61.53125 53.78125 63.8125 \nQ 48.140625 66.109375 41.796875 66.109375 \nQ 29.296875 66.109375 22.65625 58.46875 \nQ 16.015625 50.828125 16.015625 36.375 \nQ 16.015625 21.96875 22.65625 14.328125 \nQ 29.296875 6.6875 41.796875 6.6875 \nQ 48.140625 6.6875 53.78125 8.984375 \nQ 59.421875 11.28125 64.40625 15.921875 \nL 64.40625 5.609375 \nQ 59.234375 2.09375 53.4375 0.328125 \nQ 47.65625 -1.421875 41.21875 -1.421875 \nQ 24.65625 -1.421875 15.125 8.703125 \nQ 5.609375 18.84375 5.609375 36.375 \nQ 5.609375 53.953125 15.125 64.078125 \nQ 24.65625 74.21875 41.21875 74.21875 \nQ 47.75 74.21875 53.53125 72.484375 \nQ 59.328125 70.75 64.40625 67.28125 \nz\n\" id=\"DejaVuSans-67\"/>\n     <path d=\"M 10.6875 12.40625 \nL 21 12.40625 \nL 21 0 \nL 10.6875 0 \nz\n\" id=\"DejaVuSans-46\"/>\n     <path d=\"M 18.3125 70.21875 \nL 18.3125 54.6875 \nL 36.8125 54.6875 \nL 36.8125 47.703125 \nL 18.3125 47.703125 \nL 18.3125 18.015625 \nQ 18.3125 11.328125 20.140625 9.421875 \nQ 21.96875 7.515625 27.59375 7.515625 \nL 36.8125 7.515625 \nL 36.8125 0 \nL 27.59375 0 \nQ 17.1875 0 13.234375 3.875 \nQ 9.28125 7.765625 9.28125 18.015625 \nL 9.28125 47.703125 \nL 2.6875 47.703125 \nL 2.6875 54.6875 \nL 9.28125 54.6875 \nL 9.28125 70.21875 \nz\n\" id=\"DejaVuSans-116\"/>\n     <path d=\"M 9.421875 54.6875 \nL 18.40625 54.6875 \nL 18.40625 0 \nL 9.421875 0 \nz\nM 9.421875 75.984375 \nL 18.40625 75.984375 \nL 18.40625 64.59375 \nL 9.421875 64.59375 \nz\n\" id=\"DejaVuSans-105\"/>\n     <path d=\"M 37.109375 75.984375 \nL 37.109375 68.5 \nL 28.515625 68.5 \nQ 23.6875 68.5 21.796875 66.546875 \nQ 19.921875 64.59375 19.921875 59.515625 \nL 19.921875 54.6875 \nL 34.71875 54.6875 \nL 34.71875 47.703125 \nL 19.921875 47.703125 \nL 19.921875 0 \nL 10.890625 0 \nL 10.890625 47.703125 \nL 2.296875 47.703125 \nL 2.296875 54.6875 \nL 10.890625 54.6875 \nL 10.890625 58.5 \nQ 10.890625 67.625 15.140625 71.796875 \nQ 19.390625 75.984375 28.609375 75.984375 \nz\n\" id=\"DejaVuSans-102\"/>\n    </defs>\n    <g transform=\"translate(95.877216 60.26493)scale(0.12 -0.12)\">\n     <use xlink:href=\"#DejaVuSans-80\"/>\n     <use x=\"60.302734\" xlink:href=\"#DejaVuSans-78\"/>\n     <use x=\"135.107422\" xlink:href=\"#DejaVuSans-79\"/>\n     <use x=\"213.802734\" xlink:href=\"#DejaVuSans-65\"/>\n     <use x=\"282.210938\" xlink:href=\"#DejaVuSans-95\"/>\n     <use x=\"332.210938\" xlink:href=\"#DejaVuSans-77\"/>\n     <use x=\"418.490234\" xlink:href=\"#DejaVuSans-68\"/>\n     <use x=\"495.492188\" xlink:href=\"#DejaVuSans-84\"/>\n     <use x=\"556.576172\" xlink:href=\"#DejaVuSans-48\"/>\n     <use x=\"620.199219\" xlink:href=\"#DejaVuSans-53\"/>\n     <use x=\"683.822266\" xlink:href=\"#DejaVuSans-95\"/>\n     <use x=\"733.822266\" xlink:href=\"#DejaVuSans-69\"/>\n     <use x=\"797.005859\" xlink:href=\"#DejaVuSans-84\"/>\n     <use x=\"858.089844\" xlink:href=\"#DejaVuSans-82\"/>\n     <use x=\"927.572266\" xlink:href=\"#DejaVuSans-83\"/>\n     <use x=\"991.048828\" xlink:href=\"#DejaVuSans-56\"/>\n     <use x=\"1054.671875\" xlink:href=\"#DejaVuSans-57\"/>\n     <use x=\"1118.294922\" xlink:href=\"#DejaVuSans-95\"/>\n     <use x=\"1168.294922\" xlink:href=\"#DejaVuSans-72\"/>\n     <use x=\"1243.490234\" xlink:href=\"#DejaVuSans-85\"/>\n     <use x=\"1316.683594\" xlink:href=\"#DejaVuSans-51\"/>\n     <use x=\"1380.306641\" xlink:href=\"#DejaVuSans-48\"/>\n     <use x=\"1443.929688\" xlink:href=\"#DejaVuSans-95\"/>\n     <use x=\"1493.929688\" xlink:href=\"#DejaVuSans-48\"/>\n     <use x=\"1557.552734\" xlink:href=\"#DejaVuSans-57\"/>\n     <use x=\"1621.175781\" xlink:href=\"#DejaVuSans-53\"/>\n     <use x=\"1684.798828\" xlink:href=\"#DejaVuSans-52\"/>\n     <use x=\"1748.421875\" xlink:href=\"#DejaVuSans-95\"/>\n     <use x=\"1798.421875\" xlink:href=\"#DejaVuSans-76\"/>\n     <use x=\"1854.134766\" xlink:href=\"#DejaVuSans-73\"/>\n     <use x=\"1883.626953\" xlink:href=\"#DejaVuSans-68\"/>\n     <use x=\"1960.628906\" xlink:href=\"#DejaVuSans-95\"/>\n     <use x=\"2010.628906\" xlink:href=\"#DejaVuSans-69\"/>\n     <use x=\"2073.8125\" xlink:href=\"#DejaVuSans-84\"/>\n     <use x=\"2134.818359\" xlink:href=\"#DejaVuSans-67\"/>\n     <use x=\"2204.642578\" xlink:href=\"#DejaVuSans-46\"/>\n     <use x=\"2236.429688\" xlink:href=\"#DejaVuSans-116\"/>\n     <use x=\"2275.638672\" xlink:href=\"#DejaVuSans-105\"/>\n     <use x=\"2303.421875\" xlink:href=\"#DejaVuSans-102\"/>\n    </g>\n   </g>\n  </g>\n  <g id=\"axes_2\">\n   <g id=\"patch_7\">\n    <path clip-path=\"url(#pba51822e55)\" d=\"M 464.469318 381.635582 \nL 464.469318 380.187784 \nL 464.469318 12.447017 \nL 464.469318 10.999219 \nL 483.001136 10.999219 \nL 483.001136 12.447017 \nL 483.001136 380.187784 \nL 483.001136 381.635582 \nz\n\" style=\"fill:#ffffff;stroke:#ffffff;stroke-linejoin:miter;stroke-width:0.01;\"/>\n   </g>\n   <image height=\"370\" id=\"image6e4de8ff94\" transform=\"scale(1 -1)translate(0 -370)\" width=\"19\" x=\"464\" xlink:href=\"data:image/png;base64,\niVBORw0KGgoAAAANSUhEUgAAABMAAAFyCAYAAAAXj+GHAAAABHNCSVQICAgIfAhkiAAAAe9JREFUeJztnYENwkAMA//7HY0R2H8UygxBJ3GSnQEsHNtJQED3a7+fBdW99kVhrXtfmwMjXxmHtHJoLpYmB0arCSbAS3NZaaI+g61BDkcvTVbNJmBaVXNe3u3UjT6vJmBeKWo+7K2BYZl7FpIArTWq5ry8asb0jMMyJ+DJCPqToSZpWjRO9LEHgolpsmpyYOIEmGmSYNrPz0gBmoAfwMw0QTAzzao5BSPPUPHpDg/H7oBhlea8vDRjhqM26FXzv2AhQQ+h2QTMK8QaME0SzEtTm01xz0Joaq0hpulVU2vaWmNeIdZAaXp7VtPOy2vaHGtwJ3KINcRqxpgWBUtIgHgJxySA81nKPAsJehPwCxiGhf98EAQLMS0LtiJ6tjOsEUOTAxOPba+a6NgmaapXHWkNDMpNMyMBl5imVE3xDiDVFCfgAi/HqjmvEJri4QgnQEszRM0QmqRpxTStapp7lmKNDwmmpVk1x2AHDbr2o9WQBBw2AVzPxKuOTAA9z6SmvQ/4ytTW0NIkgy6mia66jO0UsgPIEaTe6OixZ1UzZZ6xakaYFh6OVmvAb8S8NCPUDJln7K2Rserg+yxiB5hPd/RttZUmbFoMy9wzEu0+2q8LHPALaGjP6MMFpWn9JyNYTS1NVk3wGTLmnqE0pc9D+QLUa43mDIpy3QAAAABJRU5ErkJggg==\" y=\"-11\"/>\n   <g id=\"matplotlib.axis_3\"/>\n   <g id=\"matplotlib.axis_4\">\n    <g id=\"ytick_9\">\n     <g id=\"line2d_15\">\n      <defs>\n       <path d=\"M 0 0 \nL 3.5 0 \n\" id=\"mc588d50cb1\" style=\"stroke:#000000;stroke-width:0.8;\"/>\n      </defs>\n      <g>\n       <use style=\"stroke:#000000;stroke-width:0.8;\" x=\"483.001136\" xlink:href=\"#mc588d50cb1\" y=\"381.635582\"/>\n      </g>\n     </g>\n     <g id=\"text_16\">\n      <!-- −0.100 -->\n      <defs>\n       <path d=\"M 10.59375 35.5 \nL 73.1875 35.5 \nL 73.1875 27.203125 \nL 10.59375 27.203125 \nz\n\" id=\"DejaVuSans-8722\"/>\n      </defs>\n      <g transform=\"translate(490.001136 385.434801)scale(0.1 -0.1)\">\n       <use xlink:href=\"#DejaVuSans-8722\"/>\n       <use x=\"83.789062\" xlink:href=\"#DejaVuSans-48\"/>\n       <use x=\"147.412109\" xlink:href=\"#DejaVuSans-46\"/>\n       <use x=\"179.199219\" xlink:href=\"#DejaVuSans-49\"/>\n       <use x=\"242.822266\" xlink:href=\"#DejaVuSans-48\"/>\n       <use x=\"306.445312\" xlink:href=\"#DejaVuSans-48\"/>\n      </g>\n     </g>\n    </g>\n    <g id=\"ytick_10\">\n     <g id=\"line2d_16\">\n      <g>\n       <use style=\"stroke:#000000;stroke-width:0.8;\" x=\"483.001136\" xlink:href=\"#mc588d50cb1\" y=\"335.306037\"/>\n      </g>\n     </g>\n     <g id=\"text_17\">\n      <!-- −0.075 -->\n      <defs>\n       <path d=\"M 8.203125 72.90625 \nL 55.078125 72.90625 \nL 55.078125 68.703125 \nL 28.609375 0 \nL 18.3125 0 \nL 43.21875 64.59375 \nL 8.203125 64.59375 \nz\n\" id=\"DejaVuSans-55\"/>\n      </defs>\n      <g transform=\"translate(490.001136 339.105256)scale(0.1 -0.1)\">\n       <use xlink:href=\"#DejaVuSans-8722\"/>\n       <use x=\"83.789062\" xlink:href=\"#DejaVuSans-48\"/>\n       <use x=\"147.412109\" xlink:href=\"#DejaVuSans-46\"/>\n       <use x=\"179.199219\" xlink:href=\"#DejaVuSans-48\"/>\n       <use x=\"242.822266\" xlink:href=\"#DejaVuSans-55\"/>\n       <use x=\"306.445312\" xlink:href=\"#DejaVuSans-53\"/>\n      </g>\n     </g>\n    </g>\n    <g id=\"ytick_11\">\n     <g id=\"line2d_17\">\n      <g>\n       <use style=\"stroke:#000000;stroke-width:0.8;\" x=\"483.001136\" xlink:href=\"#mc588d50cb1\" y=\"288.976491\"/>\n      </g>\n     </g>\n     <g id=\"text_18\">\n      <!-- −0.050 -->\n      <g transform=\"translate(490.001136 292.77571)scale(0.1 -0.1)\">\n       <use xlink:href=\"#DejaVuSans-8722\"/>\n       <use x=\"83.789062\" xlink:href=\"#DejaVuSans-48\"/>\n       <use x=\"147.412109\" xlink:href=\"#DejaVuSans-46\"/>\n       <use x=\"179.199219\" xlink:href=\"#DejaVuSans-48\"/>\n       <use x=\"242.822266\" xlink:href=\"#DejaVuSans-53\"/>\n       <use x=\"306.445312\" xlink:href=\"#DejaVuSans-48\"/>\n      </g>\n     </g>\n    </g>\n    <g id=\"ytick_12\">\n     <g id=\"line2d_18\">\n      <g>\n       <use style=\"stroke:#000000;stroke-width:0.8;\" x=\"483.001136\" xlink:href=\"#mc588d50cb1\" y=\"242.646946\"/>\n      </g>\n     </g>\n     <g id=\"text_19\">\n      <!-- −0.025 -->\n      <g transform=\"translate(490.001136 246.446165)scale(0.1 -0.1)\">\n       <use xlink:href=\"#DejaVuSans-8722\"/>\n       <use x=\"83.789062\" xlink:href=\"#DejaVuSans-48\"/>\n       <use x=\"147.412109\" xlink:href=\"#DejaVuSans-46\"/>\n       <use x=\"179.199219\" xlink:href=\"#DejaVuSans-48\"/>\n       <use x=\"242.822266\" xlink:href=\"#DejaVuSans-50\"/>\n       <use x=\"306.445312\" xlink:href=\"#DejaVuSans-53\"/>\n      </g>\n     </g>\n    </g>\n    <g id=\"ytick_13\">\n     <g id=\"line2d_19\">\n      <g>\n       <use style=\"stroke:#000000;stroke-width:0.8;\" x=\"483.001136\" xlink:href=\"#mc588d50cb1\" y=\"196.317401\"/>\n      </g>\n     </g>\n     <g id=\"text_20\">\n      <!-- 0.000 -->\n      <g transform=\"translate(490.001136 200.116619)scale(0.1 -0.1)\">\n       <use xlink:href=\"#DejaVuSans-48\"/>\n       <use x=\"63.623047\" xlink:href=\"#DejaVuSans-46\"/>\n       <use x=\"95.410156\" xlink:href=\"#DejaVuSans-48\"/>\n       <use x=\"159.033203\" xlink:href=\"#DejaVuSans-48\"/>\n       <use x=\"222.65625\" xlink:href=\"#DejaVuSans-48\"/>\n      </g>\n     </g>\n    </g>\n    <g id=\"ytick_14\">\n     <g id=\"line2d_20\">\n      <g>\n       <use style=\"stroke:#000000;stroke-width:0.8;\" x=\"483.001136\" xlink:href=\"#mc588d50cb1\" y=\"149.987855\"/>\n      </g>\n     </g>\n     <g id=\"text_21\">\n      <!-- 0.025 -->\n      <g transform=\"translate(490.001136 153.787074)scale(0.1 -0.1)\">\n       <use xlink:href=\"#DejaVuSans-48\"/>\n       <use x=\"63.623047\" xlink:href=\"#DejaVuSans-46\"/>\n       <use x=\"95.410156\" xlink:href=\"#DejaVuSans-48\"/>\n       <use x=\"159.033203\" xlink:href=\"#DejaVuSans-50\"/>\n       <use x=\"222.65625\" xlink:href=\"#DejaVuSans-53\"/>\n      </g>\n     </g>\n    </g>\n    <g id=\"ytick_15\">\n     <g id=\"line2d_21\">\n      <g>\n       <use style=\"stroke:#000000;stroke-width:0.8;\" x=\"483.001136\" xlink:href=\"#mc588d50cb1\" y=\"103.65831\"/>\n      </g>\n     </g>\n     <g id=\"text_22\">\n      <!-- 0.050 -->\n      <g transform=\"translate(490.001136 107.457528)scale(0.1 -0.1)\">\n       <use xlink:href=\"#DejaVuSans-48\"/>\n       <use x=\"63.623047\" xlink:href=\"#DejaVuSans-46\"/>\n       <use x=\"95.410156\" xlink:href=\"#DejaVuSans-48\"/>\n       <use x=\"159.033203\" xlink:href=\"#DejaVuSans-53\"/>\n       <use x=\"222.65625\" xlink:href=\"#DejaVuSans-48\"/>\n      </g>\n     </g>\n    </g>\n    <g id=\"ytick_16\">\n     <g id=\"line2d_22\">\n      <g>\n       <use style=\"stroke:#000000;stroke-width:0.8;\" x=\"483.001136\" xlink:href=\"#mc588d50cb1\" y=\"57.328764\"/>\n      </g>\n     </g>\n     <g id=\"text_23\">\n      <!-- 0.075 -->\n      <g transform=\"translate(490.001136 61.127983)scale(0.1 -0.1)\">\n       <use xlink:href=\"#DejaVuSans-48\"/>\n       <use x=\"63.623047\" xlink:href=\"#DejaVuSans-46\"/>\n       <use x=\"95.410156\" xlink:href=\"#DejaVuSans-48\"/>\n       <use x=\"159.033203\" xlink:href=\"#DejaVuSans-55\"/>\n       <use x=\"222.65625\" xlink:href=\"#DejaVuSans-53\"/>\n      </g>\n     </g>\n    </g>\n    <g id=\"ytick_17\">\n     <g id=\"line2d_23\">\n      <g>\n       <use style=\"stroke:#000000;stroke-width:0.8;\" x=\"483.001136\" xlink:href=\"#mc588d50cb1\" y=\"10.999219\"/>\n      </g>\n     </g>\n     <g id=\"text_24\">\n      <!-- 0.100 -->\n      <g transform=\"translate(490.001136 14.798437)scale(0.1 -0.1)\">\n       <use xlink:href=\"#DejaVuSans-48\"/>\n       <use x=\"63.623047\" xlink:href=\"#DejaVuSans-46\"/>\n       <use x=\"95.410156\" xlink:href=\"#DejaVuSans-49\"/>\n       <use x=\"159.033203\" xlink:href=\"#DejaVuSans-48\"/>\n       <use x=\"222.65625\" xlink:href=\"#DejaVuSans-48\"/>\n      </g>\n     </g>\n    </g>\n   </g>\n   <g id=\"patch_8\">\n    <path d=\"M 464.469318 381.635582 \nL 464.469318 380.187784 \nL 464.469318 12.447017 \nL 464.469318 10.999219 \nL 483.001136 10.999219 \nL 483.001136 12.447017 \nL 483.001136 380.187784 \nL 483.001136 381.635582 \nz\n\" style=\"fill:none;stroke:#000000;stroke-linejoin:miter;stroke-width:0.8;\"/>\n   </g>\n  </g>\n  <g id=\"axes_3\">\n   <g id=\"patch_9\">\n    <path d=\"M 642.014773 326.831791 \nL 1047.832955 326.831791 \nL 1047.832955 65.80301 \nL 642.014773 65.80301 \nz\n\" style=\"fill:#ffffff;\"/>\n   </g>\n   <g clip-path=\"url(#pc4b6ee36fa)\">\n    <image height=\"262\" id=\"imagec1f34b3a11\" transform=\"scale(1 -1)translate(0 -262)\" width=\"406\" x=\"642.014773\" xlink:href=\"data:image/png;base64,\niVBORw0KGgoAAAANSUhEUgAAAZYAAAEGCAYAAABGnrPVAAAABHNCSVQICAgIfAhkiAAAA9lJREFUeJzt1cEJwCAAwEB1kg7sw43bJQJCuZsgv8zn7HcAQGTdDgDgX4wFgJSxAJAyFgBSxgJAylgASBkLACljASBlLACkjAWAlLEAkDIWAFLGAkDKWABIGQsAKWMBIGUsAKSMBYCUsQCQMhYAUsYCQMpYAEgZCwApYwEgZSwApIwFgJSxAJAyFgBSxgJAylgASBkLACljASBlLACkjAWAlLEAkDIWAFLGAkDKWABIGQsAKWMBIGUsAKSMBYCUsQCQMhYAUsYCQMpYAEgZCwApYwEgZSwApIwFgJSxAJAyFgBSxgJAylgASBkLACljASBlLACkjAWAlLEAkDIWAFLGAkDKWABIGQsAKWMBIGUsAKSMBYCUsQCQMhYAUsYCQMpYAEgZCwApYwEgZSwApIwFgJSxAJAyFgBSxgJAylgASBkLACljASBlLACkjAWAlLEAkDIWAFLGAkDKWABIGQsAKWMBIGUsAKSMBYCUsQCQMhYAUsYCQMpYAEgZCwApYwEgZSwApIwFgJSxAJAyFgBSxgJAylgASBkLACljASBlLACkjAWAlLEAkDIWAFLGAkDKWABIGQsAKWMBIGUsAKSMBYCUsQCQMhYAUsYCQMpYAEgZCwApYwEgZSwApIwFgJSxAJAyFgBSxgJAylgASBkLACljASBlLACkjAWAlLEAkDIWAFLGAkDKWABIGQsAKWMBIGUsAKSMBYCUsQCQMhYAUsYCQMpYAEgZCwApYwEgZSwApIwFgJSxAJAyFgBSxgJAylgASBkLACljASBlLACkjAWAlLEAkDIWAFLGAkDKWABIGQsAKWMBIGUsAKSMBYCUsQCQMhYAUsYCQMpYAEgZCwApYwEgZSwApIwFgJSxAJAyFgBSxgJAylgASBkLACljASBlLACkjAWAlLEAkDIWAFLGAkDKWABIGQsAKWMBIGUsAKSMBYCUsQCQMhYAUsYCQMpYAEgZCwApYwEgZSwApIwFgJSxAJAyFgBSxgJAylgASBkLACljASBlLACkjAWAlLEAkDIWAFLGAkDKWABIGQsAKWMBIGUsAKSMBYCUsQCQMhYAUsYCQMpYAEgZCwApYwEgZSwApIwFgJSxAJAyFgBSxgJAylgASBkLACljASBlLACkjAWAlLEAkDIWAFLGAkDKWABIGQsAKWMBIGUsAKSMBYCUsQCQMhYAUsYCQMpYAEgZCwApYwEgZSwApIwFgJSxAJAyFgBSxgJAylgASBkLACljASBlLACkjAWAlLEAkDIWAFLGAkDKWABIGQsAKWMBIGUsAKSMBYCUsQCQMhYAUsYCQOoDPFEER8GaaDYAAAAASUVORK5CYII=\" y=\"-64.831791\"/>\n   </g>\n   <g id=\"matplotlib.axis_5\">\n    <g id=\"xtick_7\">\n     <g id=\"line2d_24\">\n      <g>\n       <use style=\"stroke:#000000;stroke-width:0.8;\" x=\"642.354654\" xlink:href=\"#m20ac79745a\" y=\"326.831791\"/>\n      </g>\n     </g>\n     <g id=\"text_25\">\n      <!-- 0 -->\n      <g transform=\"translate(639.173404 341.430228)scale(0.1 -0.1)\">\n       <use xlink:href=\"#DejaVuSans-48\"/>\n      </g>\n     </g>\n    </g>\n    <g id=\"xtick_8\">\n     <g id=\"line2d_25\">\n      <g>\n       <use style=\"stroke:#000000;stroke-width:0.8;\" x=\"710.330899\" xlink:href=\"#m20ac79745a\" y=\"326.831791\"/>\n      </g>\n     </g>\n     <g id=\"text_26\">\n      <!-- 100 -->\n      <g transform=\"translate(700.787149 341.430228)scale(0.1 -0.1)\">\n       <use xlink:href=\"#DejaVuSans-49\"/>\n       <use x=\"63.623047\" xlink:href=\"#DejaVuSans-48\"/>\n       <use x=\"127.246094\" xlink:href=\"#DejaVuSans-48\"/>\n      </g>\n     </g>\n    </g>\n    <g id=\"xtick_9\">\n     <g id=\"line2d_26\">\n      <g>\n       <use style=\"stroke:#000000;stroke-width:0.8;\" x=\"778.307144\" xlink:href=\"#m20ac79745a\" y=\"326.831791\"/>\n      </g>\n     </g>\n     <g id=\"text_27\">\n      <!-- 200 -->\n      <g transform=\"translate(768.763394 341.430228)scale(0.1 -0.1)\">\n       <use xlink:href=\"#DejaVuSans-50\"/>\n       <use x=\"63.623047\" xlink:href=\"#DejaVuSans-48\"/>\n       <use x=\"127.246094\" xlink:href=\"#DejaVuSans-48\"/>\n      </g>\n     </g>\n    </g>\n    <g id=\"xtick_10\">\n     <g id=\"line2d_27\">\n      <g>\n       <use style=\"stroke:#000000;stroke-width:0.8;\" x=\"846.283389\" xlink:href=\"#m20ac79745a\" y=\"326.831791\"/>\n      </g>\n     </g>\n     <g id=\"text_28\">\n      <!-- 300 -->\n      <g transform=\"translate(836.739639 341.430228)scale(0.1 -0.1)\">\n       <use xlink:href=\"#DejaVuSans-51\"/>\n       <use x=\"63.623047\" xlink:href=\"#DejaVuSans-48\"/>\n       <use x=\"127.246094\" xlink:href=\"#DejaVuSans-48\"/>\n      </g>\n     </g>\n    </g>\n    <g id=\"xtick_11\">\n     <g id=\"line2d_28\">\n      <g>\n       <use style=\"stroke:#000000;stroke-width:0.8;\" x=\"914.259633\" xlink:href=\"#m20ac79745a\" y=\"326.831791\"/>\n      </g>\n     </g>\n     <g id=\"text_29\">\n      <!-- 400 -->\n      <g transform=\"translate(904.715883 341.430228)scale(0.1 -0.1)\">\n       <use xlink:href=\"#DejaVuSans-52\"/>\n       <use x=\"63.623047\" xlink:href=\"#DejaVuSans-48\"/>\n       <use x=\"127.246094\" xlink:href=\"#DejaVuSans-48\"/>\n      </g>\n     </g>\n    </g>\n    <g id=\"xtick_12\">\n     <g id=\"line2d_29\">\n      <g>\n       <use style=\"stroke:#000000;stroke-width:0.8;\" x=\"982.235878\" xlink:href=\"#m20ac79745a\" y=\"326.831791\"/>\n      </g>\n     </g>\n     <g id=\"text_30\">\n      <!-- 500 -->\n      <g transform=\"translate(972.692128 341.430228)scale(0.1 -0.1)\">\n       <use xlink:href=\"#DejaVuSans-53\"/>\n       <use x=\"63.623047\" xlink:href=\"#DejaVuSans-48\"/>\n       <use x=\"127.246094\" xlink:href=\"#DejaVuSans-48\"/>\n      </g>\n     </g>\n    </g>\n   </g>\n   <g id=\"matplotlib.axis_6\">\n    <g id=\"ytick_18\">\n     <g id=\"line2d_30\">\n      <g>\n       <use style=\"stroke:#000000;stroke-width:0.8;\" x=\"642.014773\" xlink:href=\"#m0efeffb9a3\" y=\"66.142892\"/>\n      </g>\n     </g>\n     <g id=\"text_31\">\n      <!-- 0 -->\n      <g transform=\"translate(628.652273 69.94211)scale(0.1 -0.1)\">\n       <use xlink:href=\"#DejaVuSans-48\"/>\n      </g>\n     </g>\n    </g>\n    <g id=\"ytick_19\">\n     <g id=\"line2d_31\">\n      <g>\n       <use style=\"stroke:#000000;stroke-width:0.8;\" x=\"642.014773\" xlink:href=\"#m0efeffb9a3\" y=\"100.131014\"/>\n      </g>\n     </g>\n     <g id=\"text_32\">\n      <!-- 50 -->\n      <g transform=\"translate(622.289773 103.930233)scale(0.1 -0.1)\">\n       <use xlink:href=\"#DejaVuSans-53\"/>\n       <use x=\"63.623047\" xlink:href=\"#DejaVuSans-48\"/>\n      </g>\n     </g>\n    </g>\n    <g id=\"ytick_20\">\n     <g id=\"line2d_32\">\n      <g>\n       <use style=\"stroke:#000000;stroke-width:0.8;\" x=\"642.014773\" xlink:href=\"#m0efeffb9a3\" y=\"134.119137\"/>\n      </g>\n     </g>\n     <g id=\"text_33\">\n      <!-- 100 -->\n      <g transform=\"translate(615.927273 137.918355)scale(0.1 -0.1)\">\n       <use xlink:href=\"#DejaVuSans-49\"/>\n       <use x=\"63.623047\" xlink:href=\"#DejaVuSans-48\"/>\n       <use x=\"127.246094\" xlink:href=\"#DejaVuSans-48\"/>\n      </g>\n     </g>\n    </g>\n    <g id=\"ytick_21\">\n     <g id=\"line2d_33\">\n      <g>\n       <use style=\"stroke:#000000;stroke-width:0.8;\" x=\"642.014773\" xlink:href=\"#m0efeffb9a3\" y=\"168.107259\"/>\n      </g>\n     </g>\n     <g id=\"text_34\">\n      <!-- 150 -->\n      <g transform=\"translate(615.927273 171.906478)scale(0.1 -0.1)\">\n       <use xlink:href=\"#DejaVuSans-49\"/>\n       <use x=\"63.623047\" xlink:href=\"#DejaVuSans-53\"/>\n       <use x=\"127.246094\" xlink:href=\"#DejaVuSans-48\"/>\n      </g>\n     </g>\n    </g>\n    <g id=\"ytick_22\">\n     <g id=\"line2d_34\">\n      <g>\n       <use style=\"stroke:#000000;stroke-width:0.8;\" x=\"642.014773\" xlink:href=\"#m0efeffb9a3\" y=\"202.095381\"/>\n      </g>\n     </g>\n     <g id=\"text_35\">\n      <!-- 200 -->\n      <g transform=\"translate(615.927273 205.8946)scale(0.1 -0.1)\">\n       <use xlink:href=\"#DejaVuSans-50\"/>\n       <use x=\"63.623047\" xlink:href=\"#DejaVuSans-48\"/>\n       <use x=\"127.246094\" xlink:href=\"#DejaVuSans-48\"/>\n      </g>\n     </g>\n    </g>\n    <g id=\"ytick_23\">\n     <g id=\"line2d_35\">\n      <g>\n       <use style=\"stroke:#000000;stroke-width:0.8;\" x=\"642.014773\" xlink:href=\"#m0efeffb9a3\" y=\"236.083504\"/>\n      </g>\n     </g>\n     <g id=\"text_36\">\n      <!-- 250 -->\n      <g transform=\"translate(615.927273 239.882723)scale(0.1 -0.1)\">\n       <use xlink:href=\"#DejaVuSans-50\"/>\n       <use x=\"63.623047\" xlink:href=\"#DejaVuSans-53\"/>\n       <use x=\"127.246094\" xlink:href=\"#DejaVuSans-48\"/>\n      </g>\n     </g>\n    </g>\n    <g id=\"ytick_24\">\n     <g id=\"line2d_36\">\n      <g>\n       <use style=\"stroke:#000000;stroke-width:0.8;\" x=\"642.014773\" xlink:href=\"#m0efeffb9a3\" y=\"270.071626\"/>\n      </g>\n     </g>\n     <g id=\"text_37\">\n      <!-- 300 -->\n      <g transform=\"translate(615.927273 273.870845)scale(0.1 -0.1)\">\n       <use xlink:href=\"#DejaVuSans-51\"/>\n       <use x=\"63.623047\" xlink:href=\"#DejaVuSans-48\"/>\n       <use x=\"127.246094\" xlink:href=\"#DejaVuSans-48\"/>\n      </g>\n     </g>\n    </g>\n    <g id=\"ytick_25\">\n     <g id=\"line2d_37\">\n      <g>\n       <use style=\"stroke:#000000;stroke-width:0.8;\" x=\"642.014773\" xlink:href=\"#m0efeffb9a3\" y=\"304.059749\"/>\n      </g>\n     </g>\n     <g id=\"text_38\">\n      <!-- 350 -->\n      <g transform=\"translate(615.927273 307.858967)scale(0.1 -0.1)\">\n       <use xlink:href=\"#DejaVuSans-51\"/>\n       <use x=\"63.623047\" xlink:href=\"#DejaVuSans-53\"/>\n       <use x=\"127.246094\" xlink:href=\"#DejaVuSans-48\"/>\n      </g>\n     </g>\n    </g>\n   </g>\n   <g id=\"patch_10\">\n    <path d=\"M 642.014773 326.831791 \nL 642.014773 65.80301 \n\" style=\"fill:none;stroke:#000000;stroke-linecap:square;stroke-linejoin:miter;stroke-width:0.8;\"/>\n   </g>\n   <g id=\"patch_11\">\n    <path d=\"M 1047.832955 326.831791 \nL 1047.832955 65.80301 \n\" style=\"fill:none;stroke:#000000;stroke-linecap:square;stroke-linejoin:miter;stroke-width:0.8;\"/>\n   </g>\n   <g id=\"patch_12\">\n    <path d=\"M 642.014773 326.831791 \nL 1047.832955 326.831791 \n\" style=\"fill:none;stroke:#000000;stroke-linecap:square;stroke-linejoin:miter;stroke-width:0.8;\"/>\n   </g>\n   <g id=\"patch_13\">\n    <path d=\"M 642.014773 65.80301 \nL 1047.832955 65.80301 \n\" style=\"fill:none;stroke:#000000;stroke-linecap:square;stroke-linejoin:miter;stroke-width:0.8;\"/>\n   </g>\n   <g id=\"text_39\">\n    <!-- PNOA_MDT05_ETRS89_HU30_0955_LID_ETC.tif -->\n    <g transform=\"translate(704.604489 59.80301)scale(0.12 -0.12)\">\n     <use xlink:href=\"#DejaVuSans-80\"/>\n     <use x=\"60.302734\" xlink:href=\"#DejaVuSans-78\"/>\n     <use x=\"135.107422\" xlink:href=\"#DejaVuSans-79\"/>\n     <use x=\"213.802734\" xlink:href=\"#DejaVuSans-65\"/>\n     <use x=\"282.210938\" xlink:href=\"#DejaVuSans-95\"/>\n     <use x=\"332.210938\" xlink:href=\"#DejaVuSans-77\"/>\n     <use x=\"418.490234\" xlink:href=\"#DejaVuSans-68\"/>\n     <use x=\"495.492188\" xlink:href=\"#DejaVuSans-84\"/>\n     <use x=\"556.576172\" xlink:href=\"#DejaVuSans-48\"/>\n     <use x=\"620.199219\" xlink:href=\"#DejaVuSans-53\"/>\n     <use x=\"683.822266\" xlink:href=\"#DejaVuSans-95\"/>\n     <use x=\"733.822266\" xlink:href=\"#DejaVuSans-69\"/>\n     <use x=\"797.005859\" xlink:href=\"#DejaVuSans-84\"/>\n     <use x=\"858.089844\" xlink:href=\"#DejaVuSans-82\"/>\n     <use x=\"927.572266\" xlink:href=\"#DejaVuSans-83\"/>\n     <use x=\"991.048828\" xlink:href=\"#DejaVuSans-56\"/>\n     <use x=\"1054.671875\" xlink:href=\"#DejaVuSans-57\"/>\n     <use x=\"1118.294922\" xlink:href=\"#DejaVuSans-95\"/>\n     <use x=\"1168.294922\" xlink:href=\"#DejaVuSans-72\"/>\n     <use x=\"1243.490234\" xlink:href=\"#DejaVuSans-85\"/>\n     <use x=\"1316.683594\" xlink:href=\"#DejaVuSans-51\"/>\n     <use x=\"1380.306641\" xlink:href=\"#DejaVuSans-48\"/>\n     <use x=\"1443.929688\" xlink:href=\"#DejaVuSans-95\"/>\n     <use x=\"1493.929688\" xlink:href=\"#DejaVuSans-48\"/>\n     <use x=\"1557.552734\" xlink:href=\"#DejaVuSans-57\"/>\n     <use x=\"1621.175781\" xlink:href=\"#DejaVuSans-53\"/>\n     <use x=\"1684.798828\" xlink:href=\"#DejaVuSans-53\"/>\n     <use x=\"1748.421875\" xlink:href=\"#DejaVuSans-95\"/>\n     <use x=\"1798.421875\" xlink:href=\"#DejaVuSans-76\"/>\n     <use x=\"1854.134766\" xlink:href=\"#DejaVuSans-73\"/>\n     <use x=\"1883.626953\" xlink:href=\"#DejaVuSans-68\"/>\n     <use x=\"1960.628906\" xlink:href=\"#DejaVuSans-95\"/>\n     <use x=\"2010.628906\" xlink:href=\"#DejaVuSans-69\"/>\n     <use x=\"2073.8125\" xlink:href=\"#DejaVuSans-84\"/>\n     <use x=\"2134.818359\" xlink:href=\"#DejaVuSans-67\"/>\n     <use x=\"2204.642578\" xlink:href=\"#DejaVuSans-46\"/>\n     <use x=\"2236.429688\" xlink:href=\"#DejaVuSans-116\"/>\n     <use x=\"2275.638672\" xlink:href=\"#DejaVuSans-105\"/>\n     <use x=\"2303.421875\" xlink:href=\"#DejaVuSans-102\"/>\n    </g>\n   </g>\n  </g>\n  <g id=\"axes_4\">\n   <g id=\"patch_14\">\n    <path clip-path=\"url(#p5243b330b6)\" d=\"M 1073.196591 381.635582 \nL 1073.196591 380.187784 \nL 1073.196591 12.447017 \nL 1073.196591 10.999219 \nL 1091.728409 10.999219 \nL 1091.728409 12.447017 \nL 1091.728409 380.187784 \nL 1091.728409 381.635582 \nz\n\" style=\"fill:#ffffff;stroke:#ffffff;stroke-linejoin:miter;stroke-width:0.01;\"/>\n   </g>\n   <image height=\"370\" id=\"imagec1f66b6f56\" transform=\"scale(1 -1)translate(0 -370)\" width=\"19\" x=\"1073\" xlink:href=\"data:image/png;base64,\niVBORw0KGgoAAAANSUhEUgAAABMAAAFyCAYAAAAXj+GHAAAABHNCSVQICAgIfAhkiAAAAe9JREFUeJztnYENwkAMA//7HY0R2H8UygxBJ3GSnQEsHNtJQED3a7+fBdW99kVhrXtfmwMjXxmHtHJoLpYmB0arCSbAS3NZaaI+g61BDkcvTVbNJmBaVXNe3u3UjT6vJmBeKWo+7K2BYZl7FpIArTWq5ry8asb0jMMyJ+DJCPqToSZpWjRO9LEHgolpsmpyYOIEmGmSYNrPz0gBmoAfwMw0QTAzzao5BSPPUPHpDg/H7oBhlea8vDRjhqM26FXzv2AhQQ+h2QTMK8QaME0SzEtTm01xz0Joaq0hpulVU2vaWmNeIdZAaXp7VtPOy2vaHGtwJ3KINcRqxpgWBUtIgHgJxySA81nKPAsJehPwCxiGhf98EAQLMS0LtiJ6tjOsEUOTAxOPba+a6NgmaapXHWkNDMpNMyMBl5imVE3xDiDVFCfgAi/HqjmvEJri4QgnQEszRM0QmqRpxTStapp7lmKNDwmmpVk1x2AHDbr2o9WQBBw2AVzPxKuOTAA9z6SmvQ/4ytTW0NIkgy6mia66jO0UsgPIEaTe6OixZ1UzZZ6xakaYFh6OVmvAb8S8NCPUDJln7K2Rserg+yxiB5hPd/RttZUmbFoMy9wzEu0+2q8LHPALaGjP6MMFpWn9JyNYTS1NVk3wGTLmnqE0pc9D+QLUa43mDIpy3QAAAABJRU5ErkJggg==\" y=\"-11\"/>\n   <g id=\"matplotlib.axis_7\"/>\n   <g id=\"matplotlib.axis_8\">\n    <g id=\"ytick_26\">\n     <g id=\"line2d_38\">\n      <g>\n       <use style=\"stroke:#000000;stroke-width:0.8;\" x=\"1091.728409\" xlink:href=\"#mc588d50cb1\" y=\"381.635582\"/>\n      </g>\n     </g>\n     <g id=\"text_40\">\n      <!-- −0.100 -->\n      <g transform=\"translate(1098.728409 385.434801)scale(0.1 -0.1)\">\n       <use xlink:href=\"#DejaVuSans-8722\"/>\n       <use x=\"83.789062\" xlink:href=\"#DejaVuSans-48\"/>\n       <use x=\"147.412109\" xlink:href=\"#DejaVuSans-46\"/>\n       <use x=\"179.199219\" xlink:href=\"#DejaVuSans-49\"/>\n       <use x=\"242.822266\" xlink:href=\"#DejaVuSans-48\"/>\n       <use x=\"306.445312\" xlink:href=\"#DejaVuSans-48\"/>\n      </g>\n     </g>\n    </g>\n    <g id=\"ytick_27\">\n     <g id=\"line2d_39\">\n      <g>\n       <use style=\"stroke:#000000;stroke-width:0.8;\" x=\"1091.728409\" xlink:href=\"#mc588d50cb1\" y=\"335.306037\"/>\n      </g>\n     </g>\n     <g id=\"text_41\">\n      <!-- −0.075 -->\n      <g transform=\"translate(1098.728409 339.105256)scale(0.1 -0.1)\">\n       <use xlink:href=\"#DejaVuSans-8722\"/>\n       <use x=\"83.789062\" xlink:href=\"#DejaVuSans-48\"/>\n       <use x=\"147.412109\" xlink:href=\"#DejaVuSans-46\"/>\n       <use x=\"179.199219\" xlink:href=\"#DejaVuSans-48\"/>\n       <use x=\"242.822266\" xlink:href=\"#DejaVuSans-55\"/>\n       <use x=\"306.445312\" xlink:href=\"#DejaVuSans-53\"/>\n      </g>\n     </g>\n    </g>\n    <g id=\"ytick_28\">\n     <g id=\"line2d_40\">\n      <g>\n       <use style=\"stroke:#000000;stroke-width:0.8;\" x=\"1091.728409\" xlink:href=\"#mc588d50cb1\" y=\"288.976491\"/>\n      </g>\n     </g>\n     <g id=\"text_42\">\n      <!-- −0.050 -->\n      <g transform=\"translate(1098.728409 292.77571)scale(0.1 -0.1)\">\n       <use xlink:href=\"#DejaVuSans-8722\"/>\n       <use x=\"83.789062\" xlink:href=\"#DejaVuSans-48\"/>\n       <use x=\"147.412109\" xlink:href=\"#DejaVuSans-46\"/>\n       <use x=\"179.199219\" xlink:href=\"#DejaVuSans-48\"/>\n       <use x=\"242.822266\" xlink:href=\"#DejaVuSans-53\"/>\n       <use x=\"306.445312\" xlink:href=\"#DejaVuSans-48\"/>\n      </g>\n     </g>\n    </g>\n    <g id=\"ytick_29\">\n     <g id=\"line2d_41\">\n      <g>\n       <use style=\"stroke:#000000;stroke-width:0.8;\" x=\"1091.728409\" xlink:href=\"#mc588d50cb1\" y=\"242.646946\"/>\n      </g>\n     </g>\n     <g id=\"text_43\">\n      <!-- −0.025 -->\n      <g transform=\"translate(1098.728409 246.446165)scale(0.1 -0.1)\">\n       <use xlink:href=\"#DejaVuSans-8722\"/>\n       <use x=\"83.789062\" xlink:href=\"#DejaVuSans-48\"/>\n       <use x=\"147.412109\" xlink:href=\"#DejaVuSans-46\"/>\n       <use x=\"179.199219\" xlink:href=\"#DejaVuSans-48\"/>\n       <use x=\"242.822266\" xlink:href=\"#DejaVuSans-50\"/>\n       <use x=\"306.445312\" xlink:href=\"#DejaVuSans-53\"/>\n      </g>\n     </g>\n    </g>\n    <g id=\"ytick_30\">\n     <g id=\"line2d_42\">\n      <g>\n       <use style=\"stroke:#000000;stroke-width:0.8;\" x=\"1091.728409\" xlink:href=\"#mc588d50cb1\" y=\"196.317401\"/>\n      </g>\n     </g>\n     <g id=\"text_44\">\n      <!-- 0.000 -->\n      <g transform=\"translate(1098.728409 200.116619)scale(0.1 -0.1)\">\n       <use xlink:href=\"#DejaVuSans-48\"/>\n       <use x=\"63.623047\" xlink:href=\"#DejaVuSans-46\"/>\n       <use x=\"95.410156\" xlink:href=\"#DejaVuSans-48\"/>\n       <use x=\"159.033203\" xlink:href=\"#DejaVuSans-48\"/>\n       <use x=\"222.65625\" xlink:href=\"#DejaVuSans-48\"/>\n      </g>\n     </g>\n    </g>\n    <g id=\"ytick_31\">\n     <g id=\"line2d_43\">\n      <g>\n       <use style=\"stroke:#000000;stroke-width:0.8;\" x=\"1091.728409\" xlink:href=\"#mc588d50cb1\" y=\"149.987855\"/>\n      </g>\n     </g>\n     <g id=\"text_45\">\n      <!-- 0.025 -->\n      <g transform=\"translate(1098.728409 153.787074)scale(0.1 -0.1)\">\n       <use xlink:href=\"#DejaVuSans-48\"/>\n       <use x=\"63.623047\" xlink:href=\"#DejaVuSans-46\"/>\n       <use x=\"95.410156\" xlink:href=\"#DejaVuSans-48\"/>\n       <use x=\"159.033203\" xlink:href=\"#DejaVuSans-50\"/>\n       <use x=\"222.65625\" xlink:href=\"#DejaVuSans-53\"/>\n      </g>\n     </g>\n    </g>\n    <g id=\"ytick_32\">\n     <g id=\"line2d_44\">\n      <g>\n       <use style=\"stroke:#000000;stroke-width:0.8;\" x=\"1091.728409\" xlink:href=\"#mc588d50cb1\" y=\"103.65831\"/>\n      </g>\n     </g>\n     <g id=\"text_46\">\n      <!-- 0.050 -->\n      <g transform=\"translate(1098.728409 107.457528)scale(0.1 -0.1)\">\n       <use xlink:href=\"#DejaVuSans-48\"/>\n       <use x=\"63.623047\" xlink:href=\"#DejaVuSans-46\"/>\n       <use x=\"95.410156\" xlink:href=\"#DejaVuSans-48\"/>\n       <use x=\"159.033203\" xlink:href=\"#DejaVuSans-53\"/>\n       <use x=\"222.65625\" xlink:href=\"#DejaVuSans-48\"/>\n      </g>\n     </g>\n    </g>\n    <g id=\"ytick_33\">\n     <g id=\"line2d_45\">\n      <g>\n       <use style=\"stroke:#000000;stroke-width:0.8;\" x=\"1091.728409\" xlink:href=\"#mc588d50cb1\" y=\"57.328764\"/>\n      </g>\n     </g>\n     <g id=\"text_47\">\n      <!-- 0.075 -->\n      <g transform=\"translate(1098.728409 61.127983)scale(0.1 -0.1)\">\n       <use xlink:href=\"#DejaVuSans-48\"/>\n       <use x=\"63.623047\" xlink:href=\"#DejaVuSans-46\"/>\n       <use x=\"95.410156\" xlink:href=\"#DejaVuSans-48\"/>\n       <use x=\"159.033203\" xlink:href=\"#DejaVuSans-55\"/>\n       <use x=\"222.65625\" xlink:href=\"#DejaVuSans-53\"/>\n      </g>\n     </g>\n    </g>\n    <g id=\"ytick_34\">\n     <g id=\"line2d_46\">\n      <g>\n       <use style=\"stroke:#000000;stroke-width:0.8;\" x=\"1091.728409\" xlink:href=\"#mc588d50cb1\" y=\"10.999219\"/>\n      </g>\n     </g>\n     <g id=\"text_48\">\n      <!-- 0.100 -->\n      <g transform=\"translate(1098.728409 14.798437)scale(0.1 -0.1)\">\n       <use xlink:href=\"#DejaVuSans-48\"/>\n       <use x=\"63.623047\" xlink:href=\"#DejaVuSans-46\"/>\n       <use x=\"95.410156\" xlink:href=\"#DejaVuSans-49\"/>\n       <use x=\"159.033203\" xlink:href=\"#DejaVuSans-48\"/>\n       <use x=\"222.65625\" xlink:href=\"#DejaVuSans-48\"/>\n      </g>\n     </g>\n    </g>\n   </g>\n   <g id=\"patch_15\">\n    <path d=\"M 1073.196591 381.635582 \nL 1073.196591 380.187784 \nL 1073.196591 12.447017 \nL 1073.196591 10.999219 \nL 1091.728409 10.999219 \nL 1091.728409 12.447017 \nL 1091.728409 380.187784 \nL 1091.728409 381.635582 \nz\n\" style=\"fill:none;stroke:#000000;stroke-linejoin:miter;stroke-width:0.8;\"/>\n   </g>\n  </g>\n  <g id=\"axes_5\">\n   <g id=\"patch_16\">\n    <path d=\"M 33.2875 1216.335031 \nL 439.105682 1216.335031 \nL 439.105682 955.354315 \nL 33.2875 955.354315 \nz\n\" style=\"fill:#ffffff;\"/>\n   </g>\n   <g clip-path=\"url(#p42418f68b8)\">\n    <image height=\"261\" id=\"image28665035e3\" transform=\"scale(1 -1)translate(0 -261)\" width=\"406\" x=\"33.2875\" xlink:href=\"data:image/png;base64,\niVBORw0KGgoAAAANSUhEUgAAAZYAAAEFCAYAAADACsF7AAAABHNCSVQICAgIfAhkiAAAA9VJREFUeJzt1cEJwCAAwEB1kg7sw43bJQJCuZsgv8zn7HcAQGTdDgDgX4wFgJSxAJAyFgBSxgJAylgASBkLACljASBlLACkjAWAlLEAkDIWAFLGAkDKWABIGQsAKWMBIGUsAKSMBYCUsQCQMhYAUsYCQMpYAEgZCwApYwEgZSwApIwFgJSxAJAyFgBSxgJAylgASBkLACljASBlLACkjAWAlLEAkDIWAFLGAkDKWABIGQsAKWMBIGUsAKSMBYCUsQCQMhYAUsYCQMpYAEgZCwApYwEgZSwApIwFgJSxAJAyFgBSxgJAylgASBkLACljASBlLACkjAWAlLEAkDIWAFLGAkDKWABIGQsAKWMBIGUsAKSMBYCUsQCQMhYAUsYCQMpYAEgZCwApYwEgZSwApIwFgJSxAJAyFgBSxgJAylgASBkLACljASBlLACkjAWAlLEAkDIWAFLGAkDKWABIGQsAKWMBIGUsAKSMBYCUsQCQMhYAUsYCQMpYAEgZCwApYwEgZSwApIwFgJSxAJAyFgBSxgJAylgASBkLACljASBlLACkjAWAlLEAkDIWAFLGAkDKWABIGQsAKWMBIGUsAKSMBYCUsQCQMhYAUsYCQMpYAEgZCwApYwEgZSwApIwFgJSxAJAyFgBSxgJAylgASBkLACljASBlLACkjAWAlLEAkDIWAFLGAkDKWABIGQsAKWMBIGUsAKSMBYCUsQCQMhYAUsYCQMpYAEgZCwApYwEgZSwApIwFgJSxAJAyFgBSxgJAylgASBkLACljASBlLACkjAWAlLEAkDIWAFLGAkDKWABIGQsAKWMBIGUsAKSMBYCUsQCQMhYAUsYCQMpYAEgZCwApYwEgZSwApIwFgJSxAJAyFgBSxgJAylgASBkLACljASBlLACkjAWAlLEAkDIWAFLGAkDKWABIGQsAKWMBIGUsAKSMBYCUsQCQMhYAUsYCQMpYAEgZCwApYwEgZSwApIwFgJSxAJAyFgBSxgJAylgASBkLACljASBlLACkjAWAlLEAkDIWAFLGAkDKWABIGQsAKWMBIGUsAKSMBYCUsQCQMhYAUsYCQMpYAEgZCwApYwEgZSwApIwFgJSxAJAyFgBSxgJAylgASBkLACljASBlLACkjAWAlLEAkDIWAFLGAkDKWABIGQsAKWMBIGUsAKSMBYCUsQCQMhYAUsYCQMpYAEgZCwApYwEgZSwApIwFgJSxAJAyFgBSxgJAylgASBkLACljASBlLACkjAWAlLEAkDIWAFLGAkDKWABIGQsAKWMBIGUsAKSMBYCUsQCQMhYAUh8UDQRFNGvLngAAAABJRU5ErkJggg==\" y=\"-955.335031\"/>\n   </g>\n   <g id=\"matplotlib.axis_9\">\n    <g id=\"xtick_13\">\n     <g id=\"line2d_47\">\n      <g>\n       <use style=\"stroke:#000000;stroke-width:0.8;\" x=\"33.629098\" xlink:href=\"#m20ac79745a\" y=\"1216.335031\"/>\n      </g>\n     </g>\n     <g id=\"text_49\">\n      <!-- 0 -->\n      <g transform=\"translate(30.447848 1230.933469)scale(0.1 -0.1)\">\n       <use xlink:href=\"#DejaVuSans-48\"/>\n      </g>\n     </g>\n    </g>\n    <g id=\"xtick_14\">\n     <g id=\"line2d_48\">\n      <g>\n       <use style=\"stroke:#000000;stroke-width:0.8;\" x=\"101.948657\" xlink:href=\"#m20ac79745a\" y=\"1216.335031\"/>\n      </g>\n     </g>\n     <g id=\"text_50\">\n      <!-- 100 -->\n      <g transform=\"translate(92.404907 1230.933469)scale(0.1 -0.1)\">\n       <use xlink:href=\"#DejaVuSans-49\"/>\n       <use x=\"63.623047\" xlink:href=\"#DejaVuSans-48\"/>\n       <use x=\"127.246094\" xlink:href=\"#DejaVuSans-48\"/>\n      </g>\n     </g>\n    </g>\n    <g id=\"xtick_15\">\n     <g id=\"line2d_49\">\n      <g>\n       <use style=\"stroke:#000000;stroke-width:0.8;\" x=\"170.268216\" xlink:href=\"#m20ac79745a\" y=\"1216.335031\"/>\n      </g>\n     </g>\n     <g id=\"text_51\">\n      <!-- 200 -->\n      <g transform=\"translate(160.724466 1230.933469)scale(0.1 -0.1)\">\n       <use xlink:href=\"#DejaVuSans-50\"/>\n       <use x=\"63.623047\" xlink:href=\"#DejaVuSans-48\"/>\n       <use x=\"127.246094\" xlink:href=\"#DejaVuSans-48\"/>\n      </g>\n     </g>\n    </g>\n    <g id=\"xtick_16\">\n     <g id=\"line2d_50\">\n      <g>\n       <use style=\"stroke:#000000;stroke-width:0.8;\" x=\"238.587775\" xlink:href=\"#m20ac79745a\" y=\"1216.335031\"/>\n      </g>\n     </g>\n     <g id=\"text_52\">\n      <!-- 300 -->\n      <g transform=\"translate(229.044025 1230.933469)scale(0.1 -0.1)\">\n       <use xlink:href=\"#DejaVuSans-51\"/>\n       <use x=\"63.623047\" xlink:href=\"#DejaVuSans-48\"/>\n       <use x=\"127.246094\" xlink:href=\"#DejaVuSans-48\"/>\n      </g>\n     </g>\n    </g>\n    <g id=\"xtick_17\">\n     <g id=\"line2d_51\">\n      <g>\n       <use style=\"stroke:#000000;stroke-width:0.8;\" x=\"306.907335\" xlink:href=\"#m20ac79745a\" y=\"1216.335031\"/>\n      </g>\n     </g>\n     <g id=\"text_53\">\n      <!-- 400 -->\n      <g transform=\"translate(297.363585 1230.933469)scale(0.1 -0.1)\">\n       <use xlink:href=\"#DejaVuSans-52\"/>\n       <use x=\"63.623047\" xlink:href=\"#DejaVuSans-48\"/>\n       <use x=\"127.246094\" xlink:href=\"#DejaVuSans-48\"/>\n      </g>\n     </g>\n    </g>\n    <g id=\"xtick_18\">\n     <g id=\"line2d_52\">\n      <g>\n       <use style=\"stroke:#000000;stroke-width:0.8;\" x=\"375.226894\" xlink:href=\"#m20ac79745a\" y=\"1216.335031\"/>\n      </g>\n     </g>\n     <g id=\"text_54\">\n      <!-- 500 -->\n      <g transform=\"translate(365.683144 1230.933469)scale(0.1 -0.1)\">\n       <use xlink:href=\"#DejaVuSans-53\"/>\n       <use x=\"63.623047\" xlink:href=\"#DejaVuSans-48\"/>\n       <use x=\"127.246094\" xlink:href=\"#DejaVuSans-48\"/>\n      </g>\n     </g>\n    </g>\n   </g>\n   <g id=\"matplotlib.axis_10\">\n    <g id=\"ytick_35\">\n     <g id=\"line2d_53\">\n      <g>\n       <use style=\"stroke:#000000;stroke-width:0.8;\" x=\"33.2875\" xlink:href=\"#m0efeffb9a3\" y=\"955.695913\"/>\n      </g>\n     </g>\n     <g id=\"text_55\">\n      <!-- 0 -->\n      <g transform=\"translate(19.925 959.495132)scale(0.1 -0.1)\">\n       <use xlink:href=\"#DejaVuSans-48\"/>\n      </g>\n     </g>\n    </g>\n    <g id=\"ytick_36\">\n     <g id=\"line2d_54\">\n      <g>\n       <use style=\"stroke:#000000;stroke-width:0.8;\" x=\"33.2875\" xlink:href=\"#m0efeffb9a3\" y=\"989.855693\"/>\n      </g>\n     </g>\n     <g id=\"text_56\">\n      <!-- 50 -->\n      <g transform=\"translate(13.5625 993.654911)scale(0.1 -0.1)\">\n       <use xlink:href=\"#DejaVuSans-53\"/>\n       <use x=\"63.623047\" xlink:href=\"#DejaVuSans-48\"/>\n      </g>\n     </g>\n    </g>\n    <g id=\"ytick_37\">\n     <g id=\"line2d_55\">\n      <g>\n       <use style=\"stroke:#000000;stroke-width:0.8;\" x=\"33.2875\" xlink:href=\"#m0efeffb9a3\" y=\"1024.015472\"/>\n      </g>\n     </g>\n     <g id=\"text_57\">\n      <!-- 100 -->\n      <g transform=\"translate(7.2 1027.814691)scale(0.1 -0.1)\">\n       <use xlink:href=\"#DejaVuSans-49\"/>\n       <use x=\"63.623047\" xlink:href=\"#DejaVuSans-48\"/>\n       <use x=\"127.246094\" xlink:href=\"#DejaVuSans-48\"/>\n      </g>\n     </g>\n    </g>\n    <g id=\"ytick_38\">\n     <g id=\"line2d_56\">\n      <g>\n       <use style=\"stroke:#000000;stroke-width:0.8;\" x=\"33.2875\" xlink:href=\"#m0efeffb9a3\" y=\"1058.175252\"/>\n      </g>\n     </g>\n     <g id=\"text_58\">\n      <!-- 150 -->\n      <g transform=\"translate(7.2 1061.974471)scale(0.1 -0.1)\">\n       <use xlink:href=\"#DejaVuSans-49\"/>\n       <use x=\"63.623047\" xlink:href=\"#DejaVuSans-53\"/>\n       <use x=\"127.246094\" xlink:href=\"#DejaVuSans-48\"/>\n      </g>\n     </g>\n    </g>\n    <g id=\"ytick_39\">\n     <g id=\"line2d_57\">\n      <g>\n       <use style=\"stroke:#000000;stroke-width:0.8;\" x=\"33.2875\" xlink:href=\"#m0efeffb9a3\" y=\"1092.335031\"/>\n      </g>\n     </g>\n     <g id=\"text_59\">\n      <!-- 200 -->\n      <g transform=\"translate(7.2 1096.13425)scale(0.1 -0.1)\">\n       <use xlink:href=\"#DejaVuSans-50\"/>\n       <use x=\"63.623047\" xlink:href=\"#DejaVuSans-48\"/>\n       <use x=\"127.246094\" xlink:href=\"#DejaVuSans-48\"/>\n      </g>\n     </g>\n    </g>\n    <g id=\"ytick_40\">\n     <g id=\"line2d_58\">\n      <g>\n       <use style=\"stroke:#000000;stroke-width:0.8;\" x=\"33.2875\" xlink:href=\"#m0efeffb9a3\" y=\"1126.494811\"/>\n      </g>\n     </g>\n     <g id=\"text_60\">\n      <!-- 250 -->\n      <g transform=\"translate(7.2 1130.29403)scale(0.1 -0.1)\">\n       <use xlink:href=\"#DejaVuSans-50\"/>\n       <use x=\"63.623047\" xlink:href=\"#DejaVuSans-53\"/>\n       <use x=\"127.246094\" xlink:href=\"#DejaVuSans-48\"/>\n      </g>\n     </g>\n    </g>\n    <g id=\"ytick_41\">\n     <g id=\"line2d_59\">\n      <g>\n       <use style=\"stroke:#000000;stroke-width:0.8;\" x=\"33.2875\" xlink:href=\"#m0efeffb9a3\" y=\"1160.654591\"/>\n      </g>\n     </g>\n     <g id=\"text_61\">\n      <!-- 300 -->\n      <g transform=\"translate(7.2 1164.453809)scale(0.1 -0.1)\">\n       <use xlink:href=\"#DejaVuSans-51\"/>\n       <use x=\"63.623047\" xlink:href=\"#DejaVuSans-48\"/>\n       <use x=\"127.246094\" xlink:href=\"#DejaVuSans-48\"/>\n      </g>\n     </g>\n    </g>\n    <g id=\"ytick_42\">\n     <g id=\"line2d_60\">\n      <g>\n       <use style=\"stroke:#000000;stroke-width:0.8;\" x=\"33.2875\" xlink:href=\"#m0efeffb9a3\" y=\"1194.81437\"/>\n      </g>\n     </g>\n     <g id=\"text_62\">\n      <!-- 350 -->\n      <g transform=\"translate(7.2 1198.613589)scale(0.1 -0.1)\">\n       <use xlink:href=\"#DejaVuSans-51\"/>\n       <use x=\"63.623047\" xlink:href=\"#DejaVuSans-53\"/>\n       <use x=\"127.246094\" xlink:href=\"#DejaVuSans-48\"/>\n      </g>\n     </g>\n    </g>\n   </g>\n   <g id=\"patch_17\">\n    <path d=\"M 33.2875 1216.335031 \nL 33.2875 955.354315 \n\" style=\"fill:none;stroke:#000000;stroke-linecap:square;stroke-linejoin:miter;stroke-width:0.8;\"/>\n   </g>\n   <g id=\"patch_18\">\n    <path d=\"M 439.105682 1216.335031 \nL 439.105682 955.354315 \n\" style=\"fill:none;stroke:#000000;stroke-linecap:square;stroke-linejoin:miter;stroke-width:0.8;\"/>\n   </g>\n   <g id=\"patch_19\">\n    <path d=\"M 33.2875 1216.335031 \nL 439.105682 1216.335031 \n\" style=\"fill:none;stroke:#000000;stroke-linecap:square;stroke-linejoin:miter;stroke-width:0.8;\"/>\n   </g>\n   <g id=\"patch_20\">\n    <path d=\"M 33.2875 955.354315 \nL 439.105682 955.354315 \n\" style=\"fill:none;stroke:#000000;stroke-linecap:square;stroke-linejoin:miter;stroke-width:0.8;\"/>\n   </g>\n   <g id=\"text_63\">\n    <!-- PNOA_MDT05_ETRS89_HU30_0933_LID_ETC.tif -->\n    <g transform=\"translate(95.877216 949.354315)scale(0.12 -0.12)\">\n     <use xlink:href=\"#DejaVuSans-80\"/>\n     <use x=\"60.302734\" xlink:href=\"#DejaVuSans-78\"/>\n     <use x=\"135.107422\" xlink:href=\"#DejaVuSans-79\"/>\n     <use x=\"213.802734\" xlink:href=\"#DejaVuSans-65\"/>\n     <use x=\"282.210938\" xlink:href=\"#DejaVuSans-95\"/>\n     <use x=\"332.210938\" xlink:href=\"#DejaVuSans-77\"/>\n     <use x=\"418.490234\" xlink:href=\"#DejaVuSans-68\"/>\n     <use x=\"495.492188\" xlink:href=\"#DejaVuSans-84\"/>\n     <use x=\"556.576172\" xlink:href=\"#DejaVuSans-48\"/>\n     <use x=\"620.199219\" xlink:href=\"#DejaVuSans-53\"/>\n     <use x=\"683.822266\" xlink:href=\"#DejaVuSans-95\"/>\n     <use x=\"733.822266\" xlink:href=\"#DejaVuSans-69\"/>\n     <use x=\"797.005859\" xlink:href=\"#DejaVuSans-84\"/>\n     <use x=\"858.089844\" xlink:href=\"#DejaVuSans-82\"/>\n     <use x=\"927.572266\" xlink:href=\"#DejaVuSans-83\"/>\n     <use x=\"991.048828\" xlink:href=\"#DejaVuSans-56\"/>\n     <use x=\"1054.671875\" xlink:href=\"#DejaVuSans-57\"/>\n     <use x=\"1118.294922\" xlink:href=\"#DejaVuSans-95\"/>\n     <use x=\"1168.294922\" xlink:href=\"#DejaVuSans-72\"/>\n     <use x=\"1243.490234\" xlink:href=\"#DejaVuSans-85\"/>\n     <use x=\"1316.683594\" xlink:href=\"#DejaVuSans-51\"/>\n     <use x=\"1380.306641\" xlink:href=\"#DejaVuSans-48\"/>\n     <use x=\"1443.929688\" xlink:href=\"#DejaVuSans-95\"/>\n     <use x=\"1493.929688\" xlink:href=\"#DejaVuSans-48\"/>\n     <use x=\"1557.552734\" xlink:href=\"#DejaVuSans-57\"/>\n     <use x=\"1621.175781\" xlink:href=\"#DejaVuSans-51\"/>\n     <use x=\"1684.798828\" xlink:href=\"#DejaVuSans-51\"/>\n     <use x=\"1748.421875\" xlink:href=\"#DejaVuSans-95\"/>\n     <use x=\"1798.421875\" xlink:href=\"#DejaVuSans-76\"/>\n     <use x=\"1854.134766\" xlink:href=\"#DejaVuSans-73\"/>\n     <use x=\"1883.626953\" xlink:href=\"#DejaVuSans-68\"/>\n     <use x=\"1960.628906\" xlink:href=\"#DejaVuSans-95\"/>\n     <use x=\"2010.628906\" xlink:href=\"#DejaVuSans-69\"/>\n     <use x=\"2073.8125\" xlink:href=\"#DejaVuSans-84\"/>\n     <use x=\"2134.818359\" xlink:href=\"#DejaVuSans-67\"/>\n     <use x=\"2204.642578\" xlink:href=\"#DejaVuSans-46\"/>\n     <use x=\"2236.429688\" xlink:href=\"#DejaVuSans-116\"/>\n     <use x=\"2275.638672\" xlink:href=\"#DejaVuSans-105\"/>\n     <use x=\"2303.421875\" xlink:href=\"#DejaVuSans-102\"/>\n    </g>\n   </g>\n  </g>\n  <g id=\"axes_6\">\n   <g id=\"patch_21\">\n    <path clip-path=\"url(#pf8e18adb73)\" d=\"M 464.469318 1271.162855 \nL 464.469318 1269.715057 \nL 464.469318 901.97429 \nL 464.469318 900.526491 \nL 483.001136 900.526491 \nL 483.001136 901.97429 \nL 483.001136 1269.715057 \nL 483.001136 1271.162855 \nz\n\" style=\"fill:#ffffff;stroke:#ffffff;stroke-linejoin:miter;stroke-width:0.01;\"/>\n   </g>\n   <image height=\"371\" id=\"image2d9ee7679e\" transform=\"scale(1 -1)translate(0 -371)\" width=\"19\" x=\"464\" xlink:href=\"data:image/png;base64,\niVBORw0KGgoAAAANSUhEUgAAABMAAAFzCAYAAADc0zIiAAAABHNCSVQICAgIfAhkiAAAAfRJREFUeJztnIFtAzEMA23/j5YRuv8o+cygxwE9gNQAhE8UZSctsj/771lQ3WsfSmvd+2xMjDvWKuY7MTEmd7J7H+5wYsyVgkmOBhgnuGckJmmAejS0bqKYKW6G9Kw3+n+KmTEz3HzYnmFa5p6FJIAcDfp9Rop5Ma1upgRdnADuYOYEPBlBfzLcRIc2ZJ+xmKABTcC8aExOTPz9WUjPmoC5WN0clxoTFCNfjupXECem/iCGadXNF1XMF2La5dhPKPNKcVObgBBM8WiEYGpHw4zJaZkxOxpzsRBM7z7r2p6LhfQsBFM7Gl5M9GQd2nl5h1bcsxDMtbn3dsg+E7upHVpxzzIS4I2TOgHcaHgN8IqJg+7FbALmYuCfnTq0LwpeQSuiZztjNGIwQTHv2kbdRHtGnky8HL2YIKUa05oAFvOwmFIx8R1AGiBOwAEfe3VzXrCbGUFHMc0JkI6G2c0QTO3Qat3saMzLjLm/mJgZs26OxS5v0MmvVkMScIkTAA6t93Yi43SfldGzEEw0Adqgs5jatU1u2mK+ECO3hvpGt2J2n83FyBtd/HCBb3Rtz0hM8wcxFDPCzZB9xj4PxMtR2rM+XOZFv2mtbqKY5qEFxeB9xhW9z0gx8H/G6IcLKHZpf83ugAao3SQxyV9/OiCpumdeTOnJfn27jeiHFwElAAAAAElFTkSuQmCC\" y=\"-900\"/>\n   <g id=\"matplotlib.axis_11\"/>\n   <g id=\"matplotlib.axis_12\">\n    <g id=\"ytick_43\">\n     <g id=\"line2d_61\">\n      <g>\n       <use style=\"stroke:#000000;stroke-width:0.8;\" x=\"483.001136\" xlink:href=\"#mc588d50cb1\" y=\"1271.162855\"/>\n      </g>\n     </g>\n     <g id=\"text_64\">\n      <!-- −0.100 -->\n      <g transform=\"translate(490.001136 1274.962074)scale(0.1 -0.1)\">\n       <use xlink:href=\"#DejaVuSans-8722\"/>\n       <use x=\"83.789062\" xlink:href=\"#DejaVuSans-48\"/>\n       <use x=\"147.412109\" xlink:href=\"#DejaVuSans-46\"/>\n       <use x=\"179.199219\" xlink:href=\"#DejaVuSans-49\"/>\n       <use x=\"242.822266\" xlink:href=\"#DejaVuSans-48\"/>\n       <use x=\"306.445312\" xlink:href=\"#DejaVuSans-48\"/>\n      </g>\n     </g>\n    </g>\n    <g id=\"ytick_44\">\n     <g id=\"line2d_62\">\n      <g>\n       <use style=\"stroke:#000000;stroke-width:0.8;\" x=\"483.001136\" xlink:href=\"#mc588d50cb1\" y=\"1224.83331\"/>\n      </g>\n     </g>\n     <g id=\"text_65\">\n      <!-- −0.075 -->\n      <g transform=\"translate(490.001136 1228.632528)scale(0.1 -0.1)\">\n       <use xlink:href=\"#DejaVuSans-8722\"/>\n       <use x=\"83.789062\" xlink:href=\"#DejaVuSans-48\"/>\n       <use x=\"147.412109\" xlink:href=\"#DejaVuSans-46\"/>\n       <use x=\"179.199219\" xlink:href=\"#DejaVuSans-48\"/>\n       <use x=\"242.822266\" xlink:href=\"#DejaVuSans-55\"/>\n       <use x=\"306.445312\" xlink:href=\"#DejaVuSans-53\"/>\n      </g>\n     </g>\n    </g>\n    <g id=\"ytick_45\">\n     <g id=\"line2d_63\">\n      <g>\n       <use style=\"stroke:#000000;stroke-width:0.8;\" x=\"483.001136\" xlink:href=\"#mc588d50cb1\" y=\"1178.503764\"/>\n      </g>\n     </g>\n     <g id=\"text_66\">\n      <!-- −0.050 -->\n      <g transform=\"translate(490.001136 1182.302983)scale(0.1 -0.1)\">\n       <use xlink:href=\"#DejaVuSans-8722\"/>\n       <use x=\"83.789062\" xlink:href=\"#DejaVuSans-48\"/>\n       <use x=\"147.412109\" xlink:href=\"#DejaVuSans-46\"/>\n       <use x=\"179.199219\" xlink:href=\"#DejaVuSans-48\"/>\n       <use x=\"242.822266\" xlink:href=\"#DejaVuSans-53\"/>\n       <use x=\"306.445312\" xlink:href=\"#DejaVuSans-48\"/>\n      </g>\n     </g>\n    </g>\n    <g id=\"ytick_46\">\n     <g id=\"line2d_64\">\n      <g>\n       <use style=\"stroke:#000000;stroke-width:0.8;\" x=\"483.001136\" xlink:href=\"#mc588d50cb1\" y=\"1132.174219\"/>\n      </g>\n     </g>\n     <g id=\"text_67\">\n      <!-- −0.025 -->\n      <g transform=\"translate(490.001136 1135.973437)scale(0.1 -0.1)\">\n       <use xlink:href=\"#DejaVuSans-8722\"/>\n       <use x=\"83.789062\" xlink:href=\"#DejaVuSans-48\"/>\n       <use x=\"147.412109\" xlink:href=\"#DejaVuSans-46\"/>\n       <use x=\"179.199219\" xlink:href=\"#DejaVuSans-48\"/>\n       <use x=\"242.822266\" xlink:href=\"#DejaVuSans-50\"/>\n       <use x=\"306.445312\" xlink:href=\"#DejaVuSans-53\"/>\n      </g>\n     </g>\n    </g>\n    <g id=\"ytick_47\">\n     <g id=\"line2d_65\">\n      <g>\n       <use style=\"stroke:#000000;stroke-width:0.8;\" x=\"483.001136\" xlink:href=\"#mc588d50cb1\" y=\"1085.844673\"/>\n      </g>\n     </g>\n     <g id=\"text_68\">\n      <!-- 0.000 -->\n      <g transform=\"translate(490.001136 1089.643892)scale(0.1 -0.1)\">\n       <use xlink:href=\"#DejaVuSans-48\"/>\n       <use x=\"63.623047\" xlink:href=\"#DejaVuSans-46\"/>\n       <use x=\"95.410156\" xlink:href=\"#DejaVuSans-48\"/>\n       <use x=\"159.033203\" xlink:href=\"#DejaVuSans-48\"/>\n       <use x=\"222.65625\" xlink:href=\"#DejaVuSans-48\"/>\n      </g>\n     </g>\n    </g>\n    <g id=\"ytick_48\">\n     <g id=\"line2d_66\">\n      <g>\n       <use style=\"stroke:#000000;stroke-width:0.8;\" x=\"483.001136\" xlink:href=\"#mc588d50cb1\" y=\"1039.515128\"/>\n      </g>\n     </g>\n     <g id=\"text_69\">\n      <!-- 0.025 -->\n      <g transform=\"translate(490.001136 1043.314347)scale(0.1 -0.1)\">\n       <use xlink:href=\"#DejaVuSans-48\"/>\n       <use x=\"63.623047\" xlink:href=\"#DejaVuSans-46\"/>\n       <use x=\"95.410156\" xlink:href=\"#DejaVuSans-48\"/>\n       <use x=\"159.033203\" xlink:href=\"#DejaVuSans-50\"/>\n       <use x=\"222.65625\" xlink:href=\"#DejaVuSans-53\"/>\n      </g>\n     </g>\n    </g>\n    <g id=\"ytick_49\">\n     <g id=\"line2d_67\">\n      <g>\n       <use style=\"stroke:#000000;stroke-width:0.8;\" x=\"483.001136\" xlink:href=\"#mc588d50cb1\" y=\"993.185582\"/>\n      </g>\n     </g>\n     <g id=\"text_70\">\n      <!-- 0.050 -->\n      <g transform=\"translate(490.001136 996.984801)scale(0.1 -0.1)\">\n       <use xlink:href=\"#DejaVuSans-48\"/>\n       <use x=\"63.623047\" xlink:href=\"#DejaVuSans-46\"/>\n       <use x=\"95.410156\" xlink:href=\"#DejaVuSans-48\"/>\n       <use x=\"159.033203\" xlink:href=\"#DejaVuSans-53\"/>\n       <use x=\"222.65625\" xlink:href=\"#DejaVuSans-48\"/>\n      </g>\n     </g>\n    </g>\n    <g id=\"ytick_50\">\n     <g id=\"line2d_68\">\n      <g>\n       <use style=\"stroke:#000000;stroke-width:0.8;\" x=\"483.001136\" xlink:href=\"#mc588d50cb1\" y=\"946.856037\"/>\n      </g>\n     </g>\n     <g id=\"text_71\">\n      <!-- 0.075 -->\n      <g transform=\"translate(490.001136 950.655256)scale(0.1 -0.1)\">\n       <use xlink:href=\"#DejaVuSans-48\"/>\n       <use x=\"63.623047\" xlink:href=\"#DejaVuSans-46\"/>\n       <use x=\"95.410156\" xlink:href=\"#DejaVuSans-48\"/>\n       <use x=\"159.033203\" xlink:href=\"#DejaVuSans-55\"/>\n       <use x=\"222.65625\" xlink:href=\"#DejaVuSans-53\"/>\n      </g>\n     </g>\n    </g>\n    <g id=\"ytick_51\">\n     <g id=\"line2d_69\">\n      <g>\n       <use style=\"stroke:#000000;stroke-width:0.8;\" x=\"483.001136\" xlink:href=\"#mc588d50cb1\" y=\"900.526491\"/>\n      </g>\n     </g>\n     <g id=\"text_72\">\n      <!-- 0.100 -->\n      <g transform=\"translate(490.001136 904.32571)scale(0.1 -0.1)\">\n       <use xlink:href=\"#DejaVuSans-48\"/>\n       <use x=\"63.623047\" xlink:href=\"#DejaVuSans-46\"/>\n       <use x=\"95.410156\" xlink:href=\"#DejaVuSans-49\"/>\n       <use x=\"159.033203\" xlink:href=\"#DejaVuSans-48\"/>\n       <use x=\"222.65625\" xlink:href=\"#DejaVuSans-48\"/>\n      </g>\n     </g>\n    </g>\n   </g>\n   <g id=\"patch_22\">\n    <path d=\"M 464.469318 1271.162855 \nL 464.469318 1269.715057 \nL 464.469318 901.97429 \nL 464.469318 900.526491 \nL 483.001136 900.526491 \nL 483.001136 901.97429 \nL 483.001136 1269.715057 \nL 483.001136 1271.162855 \nz\n\" style=\"fill:none;stroke:#000000;stroke-linejoin:miter;stroke-width:0.8;\"/>\n   </g>\n  </g>\n </g>\n <defs>\n  <clipPath id=\"p7cfd295637\">\n   <rect height=\"260.104942\" width=\"405.818182\" x=\"33.2875\" y=\"66.26493\"/>\n  </clipPath>\n  <clipPath id=\"pba51822e55\">\n   <rect height=\"370.636364\" width=\"18.531818\" x=\"464.469318\" y=\"10.999219\"/>\n  </clipPath>\n  <clipPath id=\"pc4b6ee36fa\">\n   <rect height=\"261.02878\" width=\"405.818182\" x=\"642.014773\" y=\"65.80301\"/>\n  </clipPath>\n  <clipPath id=\"p5243b330b6\">\n   <rect height=\"370.636364\" width=\"18.531818\" x=\"1073.196591\" y=\"10.999219\"/>\n  </clipPath>\n  <clipPath id=\"p42418f68b8\">\n   <rect height=\"260.980716\" width=\"405.818182\" x=\"33.2875\" y=\"955.354315\"/>\n  </clipPath>\n  <clipPath id=\"pf8e18adb73\">\n   <rect height=\"370.636364\" width=\"18.531818\" x=\"464.469318\" y=\"900.526491\"/>\n  </clipPath>\n </defs>\n</svg>\n",
      "image/png": "[encoded data removed]"
     },
     "metadata": {
      "needs_background": "light"
     }
    }
   ],
   "source": [
    "from matplotlib import pyplot as plt\n",
    "\n",
    "size = len(evapotranspiration_results)\n",
    "fig, axs = plt.subplots(len(evapotranspiration_results), figsize=(20,30))\n",
    "\n",
    "i = 1\n",
    "for item in evapotranspiration_results:\n",
    "    obj = cos.get_object(item)\n",
    "    with rasterio.open(obj) as src:\n",
    "        arr = src.read(1, out_shape=(src.height//10, src.width//10))\n",
    "        plt.subplot(1 + (size-1)/2, 2, i)\n",
    "        plt.gca().set_title(item)\n",
    "        plt.imshow(arr)\n",
    "        plt.colorbar(shrink=0.5)\n",
    "        i += 1\n",
    "\n",
    "plt.show()"
   ]
  }
 ],
 "metadata": {
  "kernelspec": {
   "name": "Python 3.7.9 64-bit ('venv')",
   "display_name": "Python 3.7.9 64-bit ('venv')",
   "metadata": {
    "interpreter": {
     "hash": "047f6d8936fd2acc66496de26a30a14924f3afa0aefd3be7cc80ade4f65be1da"
    }
   }
  },
  "language_info": {
   "codemirror_mode": {
    "name": "ipython",
    "version": 3
   },
   "file_extension": ".py",
   "mimetype": "text/x-python",
   "name": "python",
   "nbconvert_exporter": "python",
   "pygments_lexer": "ipython3",
   "version": "3.7.9-final"
  }
 },
 "nbformat": 4,
 "nbformat_minor": 2
}